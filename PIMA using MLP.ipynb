{
  "nbformat": 4,
  "nbformat_minor": 0,
  "metadata": {
    "colab": {
      "name": "AI Mid Dense 1 A.ipynb",
      "provenance": [],
      "collapsed_sections": [],
      "authorship_tag": "ABX9TyPRr4ExybndoA98hHoJTVPu",
      "include_colab_link": true
    },
    "kernelspec": {
      "name": "python3",
      "display_name": "Python 3"
    },
    "language_info": {
      "name": "python"
    }
  },
  "cells": [
    {
      "cell_type": "markdown",
      "metadata": {
        "id": "view-in-github",
        "colab_type": "text"
      },
      "source": [
        "<a href=\"https://colab.research.google.com/github/iamBHK/DiabetesPrediction/blob/main/AI_Mid_Dense_1_A.ipynb\" target=\"_parent\"><img src=\"https://colab.research.google.com/assets/colab-badge.svg\" alt=\"Open In Colab\"/></a>"
      ]
    },
    {
      "cell_type": "markdown",
      "source": [
        "This is build on Dense layer : Multi Layer Perceptron"
      ],
      "metadata": {
        "id": "hFbM92dipZC9"
      }
    },
    {
      "cell_type": "markdown",
      "source": [
        "Lets Import all the necessary Libraries"
      ],
      "metadata": {
        "id": "XcvCFcemZo3_"
      }
    },
    {
      "cell_type": "code",
      "execution_count": null,
      "metadata": {
        "id": "YbWp3DS8wNVL"
      },
      "outputs": [],
      "source": [
        "from keras.models import Sequential\n",
        "from keras.layers import Dense\n",
        "from keras.models import model_from_json\n",
        "from keras.callbacks import TensorBoard\n",
        "from keras import optimizers\n",
        "import time\n",
        "from sklearn.model_selection import train_test_split\n",
        "import tensorflow as tf\n",
        "from sklearn import model_selection\n",
        "import pandas as pd\n",
        "import numpy as np\n",
        "import matplotlib.pyplot as plt\n",
        "import pickle"
      ]
    },
    {
      "cell_type": "markdown",
      "source": [
        "Loaded the Dataset here & Display header info"
      ],
      "metadata": {
        "id": "TGeGu5UNZzCW"
      }
    },
    {
      "cell_type": "code",
      "source": [
        "!pip install seaborn"
      ],
      "metadata": {
        "id": "xpYRPz104Ijc"
      },
      "execution_count": null,
      "outputs": []
    },
    {
      "cell_type": "code",
      "source": [
        "import seaborn as sns"
      ],
      "metadata": {
        "id": "WlYwulQQ4yPB"
      },
      "execution_count": null,
      "outputs": []
    },
    {
      "cell_type": "code",
      "source": [
        "df = pd.read_csv ('diabetes.csv',encoding='utf-8')\n",
        "print(df.head())"
      ],
      "metadata": {
        "colab": {
          "base_uri": "https://localhost:8080/"
        },
        "id": "9BwJBNx5wRt6",
        "outputId": "01341861-6b7d-448f-b699-763946f4484e"
      },
      "execution_count": null,
      "outputs": [
        {
          "output_type": "stream",
          "name": "stdout",
          "text": [
            "   Pregnancies  Glucose  BloodPressure  SkinThickness  Insulin   BMI  \\\n",
            "0            6      148             72             35        0  33.6   \n",
            "1            1       85             66             29        0  26.6   \n",
            "2            8      183             64              0        0  23.3   \n",
            "3            1       89             66             23       94  28.1   \n",
            "4            0      137             40             35      168  43.1   \n",
            "\n",
            "   DiabetesPedigreeFunction  Age  Outcome  \n",
            "0                     0.627   50        1  \n",
            "1                     0.351   31        0  \n",
            "2                     0.672   32        1  \n",
            "3                     0.167   21        0  \n",
            "4                     2.288   33        1  \n"
          ]
        }
      ]
    },
    {
      "cell_type": "markdown",
      "source": [
        "Lets Build relation b/w every variable from dataset & analyze"
      ],
      "metadata": {
        "id": "o4cQ26qIZ9CI"
      }
    },
    {
      "cell_type": "code",
      "source": [
        "X =df[['Pregnancies',\t'Glucose'\t,'BloodPressure',\t'SkinThickness',\t'Insulin',\t'BMI',\t'DiabetesPedigreeFunction'\t,'Age',\t'Outcome']]\n",
        "dim=X.shape[1]"
      ],
      "metadata": {
        "id": "tuNLYKIfwaB5"
      },
      "execution_count": null,
      "outputs": []
    },
    {
      "cell_type": "code",
      "source": [
        "foo = sns.heatmap(X.corr(), vmax=1, square=True, annot=True)\n",
        "plt.figure(figsize=(28,28))\n",
        "X=X.to_numpy()\n",
        "Y= df[['Outcome']] # 2D\n",
        "Y=Y.to_numpy()\n",
        "t1=Y.shape[0]\n",
        "Y=np.reshape(Y,(t1,))  # 2D\n",
        "x_train , x_test , y_train , y_test = train_test_split(X,Y,test_size=0.02)"
      ],
      "metadata": {
        "colab": {
          "base_uri": "https://localhost:8080/",
          "height": 407
        },
        "id": "zhgYNh4_wdyn",
        "outputId": "11bf3b44-673e-46a2-cc65-fc9e9dea6d82"
      },
      "execution_count": null,
      "outputs": [
        {
          "output_type": "display_data",
          "data": {
            "text/plain": [
              "<Figure size 432x288 with 2 Axes>"
            ],
            "image/png": "[encoded data removed]"
          },
          "metadata": {
            "needs_background": "light"
          }
        },
        {
          "output_type": "display_data",
          "data": {
            "text/plain": [
              "<Figure size 2016x2016 with 0 Axes>"
            ]
          },
          "metadata": {}
        }
      ]
    },
    {
      "cell_type": "code",
      "source": [
        "y_train2=tf.keras.utils.to_categorical(y_train)\n",
        "print(y_train2.shape)\n",
        "category=2      \n",
        "y_test2=tf.keras.utils.to_categorical(y_test, num_classes=(category))"
      ],
      "metadata": {
        "colab": {
          "base_uri": "https://localhost:8080/"
        },
        "id": "UDU70Qwswg0P",
        "outputId": "e91c4039-ad46-48d5-90e4-a92680214774"
      },
      "execution_count": null,
      "outputs": [
        {
          "output_type": "stream",
          "name": "stdout",
          "text": [
            "(752, 2)\n"
          ]
        }
      ]
    },
    {
      "cell_type": "code",
      "source": [
        "model = tf.keras.models.Sequential()\n",
        "model.add(tf.keras.layers.Dense(units=90, activation=tf.nn.relu, input_dim=dim))\n",
        "model.add(tf.keras.layers.Dense(units=100, activation=tf.nn.relu ))\n",
        "model.add(tf.keras.layers.Dense(units=category, activation=tf.nn.softmax ))\n",
        "model.compile(optimizer='adam', loss=tf.keras.losses.categorical_crossentropy, metrics=['accuracy'])\n",
        "history=model.fit(x_train, y_train2, epochs=170, batch_size=80)"
      ],
      "metadata": {
        "colab": {
          "base_uri": "https://localhost:8080/"
        },
        "id": "3TtgV_wVwuOp",
        "outputId": "c9253e8b-b901-4ced-c223-8b6ffeec982b"
      },
      "execution_count": null,
      "outputs": [
        {
          "output_type": "stream",
          "name": "stdout",
          "text": [
            "Epoch 1/170\n",
            "10/10 [==============================] - 0s 3ms/step - loss: 2.7261 - accuracy: 0.5585\n",
            "Epoch 2/170\n",
            "10/10 [==============================] - 0s 2ms/step - loss: 1.5279 - accuracy: 0.5585\n",
            "Epoch 3/170\n",
            "10/10 [==============================] - 0s 2ms/step - loss: 0.9694 - accuracy: 0.6383\n",
            "Epoch 4/170\n",
            "10/10 [==============================] - 0s 2ms/step - loss: 0.7480 - accuracy: 0.6263\n",
            "Epoch 5/170\n",
            "10/10 [==============================] - 0s 3ms/step - loss: 0.6915 - accuracy: 0.6423\n",
            "Epoch 6/170\n",
            "10/10 [==============================] - 0s 2ms/step - loss: 0.6302 - accuracy: 0.6596\n",
            "Epoch 7/170\n",
            "10/10 [==============================] - 0s 2ms/step - loss: 0.6021 - accuracy: 0.6928\n",
            "Epoch 8/170\n",
            "10/10 [==============================] - 0s 2ms/step - loss: 0.5650 - accuracy: 0.7194\n",
            "Epoch 9/170\n",
            "10/10 [==============================] - 0s 2ms/step - loss: 0.5658 - accuracy: 0.7101\n",
            "Epoch 10/170\n",
            "10/10 [==============================] - 0s 2ms/step - loss: 0.5376 - accuracy: 0.7367\n",
            "Epoch 11/170\n",
            "10/10 [==============================] - 0s 2ms/step - loss: 0.5171 - accuracy: 0.7593\n",
            "Epoch 12/170\n",
            "10/10 [==============================] - 0s 2ms/step - loss: 0.5306 - accuracy: 0.7593\n",
            "Epoch 13/170\n",
            "10/10 [==============================] - 0s 2ms/step - loss: 0.5970 - accuracy: 0.6888\n",
            "Epoch 14/170\n",
            "10/10 [==============================] - 0s 2ms/step - loss: 0.6988 - accuracy: 0.6795\n",
            "Epoch 15/170\n",
            "10/10 [==============================] - 0s 2ms/step - loss: 0.5099 - accuracy: 0.7473\n",
            "Epoch 16/170\n",
            "10/10 [==============================] - 0s 2ms/step - loss: 0.5383 - accuracy: 0.7367\n",
            "Epoch 17/170\n",
            "10/10 [==============================] - 0s 3ms/step - loss: 0.5047 - accuracy: 0.7593\n",
            "Epoch 18/170\n",
            "10/10 [==============================] - 0s 2ms/step - loss: 0.5128 - accuracy: 0.7620\n",
            "Epoch 19/170\n",
            "10/10 [==============================] - 0s 3ms/step - loss: 0.5360 - accuracy: 0.7367\n",
            "Epoch 20/170\n",
            "10/10 [==============================] - 0s 2ms/step - loss: 0.5401 - accuracy: 0.7340\n",
            "Epoch 21/170\n",
            "10/10 [==============================] - 0s 2ms/step - loss: 0.5856 - accuracy: 0.7261\n",
            "Epoch 22/170\n",
            "10/10 [==============================] - 0s 2ms/step - loss: 0.5506 - accuracy: 0.7394\n",
            "Epoch 23/170\n",
            "10/10 [==============================] - 0s 2ms/step - loss: 0.4659 - accuracy: 0.7726\n",
            "Epoch 24/170\n",
            "10/10 [==============================] - 0s 3ms/step - loss: 0.4825 - accuracy: 0.7899\n",
            "Epoch 25/170\n",
            "10/10 [==============================] - 0s 2ms/step - loss: 0.4324 - accuracy: 0.8072\n",
            "Epoch 26/170\n",
            "10/10 [==============================] - 0s 3ms/step - loss: 0.4217 - accuracy: 0.8178\n",
            "Epoch 27/170\n",
            "10/10 [==============================] - 0s 2ms/step - loss: 0.4485 - accuracy: 0.8045\n",
            "Epoch 28/170\n",
            "10/10 [==============================] - 0s 3ms/step - loss: 0.4076 - accuracy: 0.8285\n",
            "Epoch 29/170\n",
            "10/10 [==============================] - 0s 4ms/step - loss: 0.4181 - accuracy: 0.8125\n",
            "Epoch 30/170\n",
            "10/10 [==============================] - 0s 3ms/step - loss: 0.3839 - accuracy: 0.8364\n",
            "Epoch 31/170\n",
            "10/10 [==============================] - 0s 2ms/step - loss: 0.4192 - accuracy: 0.8112\n",
            "Epoch 32/170\n",
            "10/10 [==============================] - 0s 2ms/step - loss: 0.5259 - accuracy: 0.7527\n",
            "Epoch 33/170\n",
            "10/10 [==============================] - 0s 2ms/step - loss: 0.4242 - accuracy: 0.8191\n",
            "Epoch 34/170\n",
            "10/10 [==============================] - 0s 2ms/step - loss: 0.3619 - accuracy: 0.8444\n",
            "Epoch 35/170\n",
            "10/10 [==============================] - 0s 2ms/step - loss: 0.3417 - accuracy: 0.8750\n",
            "Epoch 36/170\n",
            "10/10 [==============================] - 0s 2ms/step - loss: 0.3621 - accuracy: 0.8684\n",
            "Epoch 37/170\n",
            "10/10 [==============================] - 0s 3ms/step - loss: 0.3208 - accuracy: 0.8803\n",
            "Epoch 38/170\n",
            "10/10 [==============================] - 0s 2ms/step - loss: 0.3246 - accuracy: 0.8816\n",
            "Epoch 39/170\n",
            "10/10 [==============================] - 0s 2ms/step - loss: 0.2928 - accuracy: 0.9122\n",
            "Epoch 40/170\n",
            "10/10 [==============================] - 0s 2ms/step - loss: 0.3262 - accuracy: 0.8830\n",
            "Epoch 41/170\n",
            "10/10 [==============================] - 0s 2ms/step - loss: 0.4250 - accuracy: 0.8191\n",
            "Epoch 42/170\n",
            "10/10 [==============================] - 0s 2ms/step - loss: 0.4086 - accuracy: 0.8285\n",
            "Epoch 43/170\n",
            "10/10 [==============================] - 0s 2ms/step - loss: 0.3274 - accuracy: 0.8750\n",
            "Epoch 44/170\n",
            "10/10 [==============================] - 0s 2ms/step - loss: 0.3084 - accuracy: 0.8856\n",
            "Epoch 45/170\n",
            "10/10 [==============================] - 0s 2ms/step - loss: 0.2777 - accuracy: 0.9029\n",
            "Epoch 46/170\n",
            "10/10 [==============================] - 0s 2ms/step - loss: 0.2611 - accuracy: 0.9229\n",
            "Epoch 47/170\n",
            "10/10 [==============================] - 0s 3ms/step - loss: 0.2562 - accuracy: 0.9176\n",
            "Epoch 48/170\n",
            "10/10 [==============================] - 0s 3ms/step - loss: 0.2548 - accuracy: 0.9282\n",
            "Epoch 49/170\n",
            "10/10 [==============================] - 0s 2ms/step - loss: 0.2402 - accuracy: 0.9388\n",
            "Epoch 50/170\n",
            "10/10 [==============================] - 0s 2ms/step - loss: 0.2570 - accuracy: 0.9189\n",
            "Epoch 51/170\n",
            "10/10 [==============================] - 0s 2ms/step - loss: 0.2448 - accuracy: 0.9215\n",
            "Epoch 52/170\n",
            "10/10 [==============================] - 0s 2ms/step - loss: 0.2244 - accuracy: 0.9309\n",
            "Epoch 53/170\n",
            "10/10 [==============================] - 0s 2ms/step - loss: 0.2152 - accuracy: 0.9641\n",
            "Epoch 54/170\n",
            "10/10 [==============================] - 0s 2ms/step - loss: 0.2229 - accuracy: 0.9402\n",
            "Epoch 55/170\n",
            "10/10 [==============================] - 0s 2ms/step - loss: 0.2139 - accuracy: 0.9362\n",
            "Epoch 56/170\n",
            "10/10 [==============================] - 0s 3ms/step - loss: 0.2069 - accuracy: 0.9455\n",
            "Epoch 57/170\n",
            "10/10 [==============================] - 0s 2ms/step - loss: 0.2472 - accuracy: 0.9189\n",
            "Epoch 58/170\n",
            "10/10 [==============================] - 0s 2ms/step - loss: 0.2328 - accuracy: 0.9282\n",
            "Epoch 59/170\n",
            "10/10 [==============================] - 0s 2ms/step - loss: 0.1836 - accuracy: 0.9614\n",
            "Epoch 60/170\n",
            "10/10 [==============================] - 0s 2ms/step - loss: 0.1861 - accuracy: 0.9535\n",
            "Epoch 61/170\n",
            "10/10 [==============================] - 0s 2ms/step - loss: 0.1851 - accuracy: 0.9601\n",
            "Epoch 62/170\n",
            "10/10 [==============================] - 0s 2ms/step - loss: 0.1509 - accuracy: 0.9801\n",
            "Epoch 63/170\n",
            "10/10 [==============================] - 0s 2ms/step - loss: 0.2190 - accuracy: 0.9096\n",
            "Epoch 64/170\n",
            "10/10 [==============================] - 0s 3ms/step - loss: 0.1880 - accuracy: 0.9561\n",
            "Epoch 65/170\n",
            "10/10 [==============================] - 0s 2ms/step - loss: 0.2226 - accuracy: 0.9122\n",
            "Epoch 66/170\n",
            "10/10 [==============================] - 0s 2ms/step - loss: 0.2727 - accuracy: 0.9069\n",
            "Epoch 67/170\n",
            "10/10 [==============================] - 0s 2ms/step - loss: 0.2789 - accuracy: 0.8777\n",
            "Epoch 68/170\n",
            "10/10 [==============================] - 0s 2ms/step - loss: 0.2218 - accuracy: 0.9242\n",
            "Epoch 69/170\n",
            "10/10 [==============================] - 0s 3ms/step - loss: 0.1602 - accuracy: 0.9681\n",
            "Epoch 70/170\n",
            "10/10 [==============================] - 0s 2ms/step - loss: 0.1639 - accuracy: 0.9628\n",
            "Epoch 71/170\n",
            "10/10 [==============================] - 0s 2ms/step - loss: 0.1594 - accuracy: 0.9521\n",
            "Epoch 72/170\n",
            "10/10 [==============================] - 0s 3ms/step - loss: 0.1081 - accuracy: 0.9920\n",
            "Epoch 73/170\n",
            "10/10 [==============================] - 0s 2ms/step - loss: 0.1081 - accuracy: 0.9920\n",
            "Epoch 74/170\n",
            "10/10 [==============================] - 0s 2ms/step - loss: 0.1081 - accuracy: 0.9867\n",
            "Epoch 75/170\n",
            "10/10 [==============================] - 0s 2ms/step - loss: 0.0994 - accuracy: 0.9947\n",
            "Epoch 76/170\n",
            "10/10 [==============================] - 0s 2ms/step - loss: 0.0966 - accuracy: 0.9934\n",
            "Epoch 77/170\n",
            "10/10 [==============================] - 0s 2ms/step - loss: 0.1154 - accuracy: 0.9827\n",
            "Epoch 78/170\n",
            "10/10 [==============================] - 0s 2ms/step - loss: 0.1146 - accuracy: 0.9774\n",
            "Epoch 79/170\n",
            "10/10 [==============================] - 0s 2ms/step - loss: 0.1007 - accuracy: 0.9894\n",
            "Epoch 80/170\n",
            "10/10 [==============================] - 0s 3ms/step - loss: 0.0938 - accuracy: 0.9894\n",
            "Epoch 81/170\n",
            "10/10 [==============================] - 0s 2ms/step - loss: 0.1033 - accuracy: 0.9867\n",
            "Epoch 82/170\n",
            "10/10 [==============================] - 0s 2ms/step - loss: 0.0803 - accuracy: 0.9960\n",
            "Epoch 83/170\n",
            "10/10 [==============================] - 0s 2ms/step - loss: 0.0760 - accuracy: 0.9947\n",
            "Epoch 84/170\n",
            "10/10 [==============================] - 0s 2ms/step - loss: 0.0780 - accuracy: 0.9960\n",
            "Epoch 85/170\n",
            "10/10 [==============================] - 0s 2ms/step - loss: 0.0694 - accuracy: 0.9973\n",
            "Epoch 86/170\n",
            "10/10 [==============================] - 0s 2ms/step - loss: 0.0764 - accuracy: 0.9934\n",
            "Epoch 87/170\n",
            "10/10 [==============================] - 0s 3ms/step - loss: 0.0652 - accuracy: 0.9987\n",
            "Epoch 88/170\n",
            "10/10 [==============================] - 0s 3ms/step - loss: 0.0697 - accuracy: 0.9973\n",
            "Epoch 89/170\n",
            "10/10 [==============================] - 0s 2ms/step - loss: 0.0661 - accuracy: 0.9960\n",
            "Epoch 90/170\n",
            "10/10 [==============================] - 0s 2ms/step - loss: 0.0681 - accuracy: 0.9960\n",
            "Epoch 91/170\n",
            "10/10 [==============================] - 0s 2ms/step - loss: 0.0600 - accuracy: 0.9987\n",
            "Epoch 92/170\n",
            "10/10 [==============================] - 0s 2ms/step - loss: 0.0612 - accuracy: 0.9960\n",
            "Epoch 93/170\n",
            "10/10 [==============================] - 0s 2ms/step - loss: 0.0553 - accuracy: 0.9987\n",
            "Epoch 94/170\n",
            "10/10 [==============================] - 0s 2ms/step - loss: 0.0516 - accuracy: 0.9987\n",
            "Epoch 95/170\n",
            "10/10 [==============================] - 0s 2ms/step - loss: 0.0503 - accuracy: 1.0000\n",
            "Epoch 96/170\n",
            "10/10 [==============================] - 0s 2ms/step - loss: 0.0514 - accuracy: 0.9987\n",
            "Epoch 97/170\n",
            "10/10 [==============================] - 0s 2ms/step - loss: 0.0490 - accuracy: 0.9987\n",
            "Epoch 98/170\n",
            "10/10 [==============================] - 0s 3ms/step - loss: 0.0461 - accuracy: 0.9987\n",
            "Epoch 99/170\n",
            "10/10 [==============================] - 0s 2ms/step - loss: 0.0515 - accuracy: 0.9987\n",
            "Epoch 100/170\n",
            "10/10 [==============================] - 0s 2ms/step - loss: 0.0452 - accuracy: 1.0000\n",
            "Epoch 101/170\n",
            "10/10 [==============================] - 0s 3ms/step - loss: 0.0509 - accuracy: 0.9987\n",
            "Epoch 102/170\n",
            "10/10 [==============================] - 0s 2ms/step - loss: 0.0571 - accuracy: 0.9934\n",
            "Epoch 103/170\n",
            "10/10 [==============================] - 0s 2ms/step - loss: 0.0750 - accuracy: 0.9827\n",
            "Epoch 104/170\n",
            "10/10 [==============================] - 0s 3ms/step - loss: 0.0821 - accuracy: 0.9734\n",
            "Epoch 105/170\n",
            "10/10 [==============================] - 0s 2ms/step - loss: 0.0725 - accuracy: 0.9880\n",
            "Epoch 106/170\n",
            "10/10 [==============================] - 0s 3ms/step - loss: 0.0551 - accuracy: 0.9947\n",
            "Epoch 107/170\n",
            "10/10 [==============================] - 0s 3ms/step - loss: 0.0404 - accuracy: 0.9987\n",
            "Epoch 108/170\n",
            "10/10 [==============================] - 0s 2ms/step - loss: 0.0358 - accuracy: 1.0000\n",
            "Epoch 109/170\n",
            "10/10 [==============================] - 0s 2ms/step - loss: 0.0359 - accuracy: 0.9987\n",
            "Epoch 110/170\n",
            "10/10 [==============================] - 0s 2ms/step - loss: 0.0336 - accuracy: 0.9987\n",
            "Epoch 111/170\n",
            "10/10 [==============================] - 0s 2ms/step - loss: 0.0324 - accuracy: 1.0000\n",
            "Epoch 112/170\n",
            "10/10 [==============================] - 0s 2ms/step - loss: 0.0317 - accuracy: 0.9987\n",
            "Epoch 113/170\n",
            "10/10 [==============================] - 0s 2ms/step - loss: 0.0323 - accuracy: 1.0000\n",
            "Epoch 114/170\n",
            "10/10 [==============================] - 0s 2ms/step - loss: 0.0316 - accuracy: 0.9987\n",
            "Epoch 115/170\n",
            "10/10 [==============================] - 0s 2ms/step - loss: 0.0293 - accuracy: 0.9987\n",
            "Epoch 116/170\n",
            "10/10 [==============================] - 0s 2ms/step - loss: 0.0319 - accuracy: 1.0000\n",
            "Epoch 117/170\n",
            "10/10 [==============================] - 0s 3ms/step - loss: 0.0275 - accuracy: 1.0000\n",
            "Epoch 118/170\n",
            "10/10 [==============================] - 0s 2ms/step - loss: 0.0282 - accuracy: 1.0000\n",
            "Epoch 119/170\n",
            "10/10 [==============================] - 0s 2ms/step - loss: 0.0285 - accuracy: 1.0000\n",
            "Epoch 120/170\n",
            "10/10 [==============================] - 0s 2ms/step - loss: 0.0266 - accuracy: 1.0000\n",
            "Epoch 121/170\n",
            "10/10 [==============================] - 0s 2ms/step - loss: 0.0248 - accuracy: 1.0000\n",
            "Epoch 122/170\n",
            "10/10 [==============================] - 0s 3ms/step - loss: 0.0275 - accuracy: 0.9987\n",
            "Epoch 123/170\n",
            "10/10 [==============================] - 0s 2ms/step - loss: 0.0316 - accuracy: 0.9987\n",
            "Epoch 124/170\n",
            "10/10 [==============================] - 0s 2ms/step - loss: 0.0362 - accuracy: 0.9947\n",
            "Epoch 125/170\n",
            "10/10 [==============================] - 0s 2ms/step - loss: 0.0472 - accuracy: 0.9920\n",
            "Epoch 126/170\n",
            "10/10 [==============================] - 0s 2ms/step - loss: 0.1149 - accuracy: 0.9614\n",
            "Epoch 127/170\n",
            "10/10 [==============================] - 0s 2ms/step - loss: 0.1046 - accuracy: 0.9681\n",
            "Epoch 128/170\n",
            "10/10 [==============================] - 0s 3ms/step - loss: 0.1429 - accuracy: 0.9535\n",
            "Epoch 129/170\n",
            "10/10 [==============================] - 0s 3ms/step - loss: 0.0735 - accuracy: 0.9801\n",
            "Epoch 130/170\n",
            "10/10 [==============================] - 0s 2ms/step - loss: 0.1212 - accuracy: 0.9601\n",
            "Epoch 131/170\n",
            "10/10 [==============================] - 0s 2ms/step - loss: 0.0973 - accuracy: 0.9654\n",
            "Epoch 132/170\n",
            "10/10 [==============================] - 0s 3ms/step - loss: 0.0860 - accuracy: 0.9774\n",
            "Epoch 133/170\n",
            "10/10 [==============================] - 0s 2ms/step - loss: 0.0748 - accuracy: 0.9721\n",
            "Epoch 134/170\n",
            "10/10 [==============================] - 0s 2ms/step - loss: 0.0443 - accuracy: 0.9920\n",
            "Epoch 135/170\n",
            "10/10 [==============================] - 0s 2ms/step - loss: 0.0398 - accuracy: 0.9907\n",
            "Epoch 136/170\n",
            "10/10 [==============================] - 0s 3ms/step - loss: 0.0426 - accuracy: 0.9894\n",
            "Epoch 137/170\n",
            "10/10 [==============================] - 0s 3ms/step - loss: 0.0321 - accuracy: 0.9934\n",
            "Epoch 138/170\n",
            "10/10 [==============================] - 0s 2ms/step - loss: 0.0516 - accuracy: 0.9894\n",
            "Epoch 139/170\n",
            "10/10 [==============================] - 0s 2ms/step - loss: 0.0404 - accuracy: 0.9880\n",
            "Epoch 140/170\n",
            "10/10 [==============================] - 0s 2ms/step - loss: 0.1391 - accuracy: 0.9481\n",
            "Epoch 141/170\n",
            "10/10 [==============================] - 0s 2ms/step - loss: 0.1509 - accuracy: 0.9455\n",
            "Epoch 142/170\n",
            "10/10 [==============================] - 0s 2ms/step - loss: 0.0398 - accuracy: 0.9920\n",
            "Epoch 143/170\n",
            "10/10 [==============================] - 0s 2ms/step - loss: 0.0223 - accuracy: 1.0000\n",
            "Epoch 144/170\n",
            "10/10 [==============================] - 0s 2ms/step - loss: 0.0153 - accuracy: 1.0000\n",
            "Epoch 145/170\n",
            "10/10 [==============================] - 0s 2ms/step - loss: 0.0127 - accuracy: 1.0000\n",
            "Epoch 146/170\n",
            "10/10 [==============================] - 0s 3ms/step - loss: 0.0123 - accuracy: 1.0000\n",
            "Epoch 147/170\n",
            "10/10 [==============================] - 0s 2ms/step - loss: 0.0122 - accuracy: 1.0000\n",
            "Epoch 148/170\n",
            "10/10 [==============================] - 0s 2ms/step - loss: 0.0144 - accuracy: 1.0000\n",
            "Epoch 149/170\n",
            "10/10 [==============================] - 0s 3ms/step - loss: 0.0173 - accuracy: 0.9987\n",
            "Epoch 150/170\n",
            "10/10 [==============================] - 0s 2ms/step - loss: 0.0116 - accuracy: 1.0000\n",
            "Epoch 151/170\n",
            "10/10 [==============================] - 0s 3ms/step - loss: 0.0122 - accuracy: 1.0000\n",
            "Epoch 152/170\n",
            "10/10 [==============================] - 0s 2ms/step - loss: 0.0122 - accuracy: 0.9987\n",
            "Epoch 153/170\n",
            "10/10 [==============================] - 0s 3ms/step - loss: 0.0112 - accuracy: 1.0000\n",
            "Epoch 154/170\n",
            "10/10 [==============================] - 0s 3ms/step - loss: 0.0117 - accuracy: 1.0000\n",
            "Epoch 155/170\n",
            "10/10 [==============================] - 0s 3ms/step - loss: 0.0115 - accuracy: 1.0000\n",
            "Epoch 156/170\n",
            "10/10 [==============================] - 0s 3ms/step - loss: 0.0106 - accuracy: 1.0000\n",
            "Epoch 157/170\n",
            "10/10 [==============================] - 0s 2ms/step - loss: 0.0104 - accuracy: 1.0000\n",
            "Epoch 158/170\n",
            "10/10 [==============================] - 0s 2ms/step - loss: 0.0104 - accuracy: 1.0000\n",
            "Epoch 159/170\n",
            "10/10 [==============================] - 0s 2ms/step - loss: 0.0099 - accuracy: 1.0000\n",
            "Epoch 160/170\n",
            "10/10 [==============================] - 0s 2ms/step - loss: 0.0094 - accuracy: 1.0000\n",
            "Epoch 161/170\n",
            "10/10 [==============================] - 0s 3ms/step - loss: 0.0093 - accuracy: 1.0000\n",
            "Epoch 162/170\n",
            "10/10 [==============================] - 0s 4ms/step - loss: 0.0090 - accuracy: 1.0000\n",
            "Epoch 163/170\n",
            "10/10 [==============================] - 0s 2ms/step - loss: 0.0096 - accuracy: 1.0000\n",
            "Epoch 164/170\n",
            "10/10 [==============================] - 0s 2ms/step - loss: 0.0088 - accuracy: 1.0000\n",
            "Epoch 165/170\n",
            "10/10 [==============================] - 0s 3ms/step - loss: 0.0087 - accuracy: 1.0000\n",
            "Epoch 166/170\n",
            "10/10 [==============================] - 0s 3ms/step - loss: 0.0093 - accuracy: 1.0000\n",
            "Epoch 167/170\n",
            "10/10 [==============================] - 0s 3ms/step - loss: 0.0093 - accuracy: 1.0000\n",
            "Epoch 168/170\n",
            "10/10 [==============================] - 0s 2ms/step - loss: 0.0098 - accuracy: 1.0000\n",
            "Epoch 169/170\n",
            "10/10 [==============================] - 0s 3ms/step - loss: 0.0090 - accuracy: 1.0000\n",
            "Epoch 170/170\n",
            "10/10 [==============================] - 0s 3ms/step - loss: 0.0089 - accuracy: 1.0000\n"
          ]
        }
      ]
    },
    {
      "cell_type": "code",
      "source": [
        "model.summary()"
      ],
      "metadata": {
        "colab": {
          "base_uri": "https://localhost:8080/"
        },
        "id": "dcWHxbBsw6ni",
        "outputId": "ae1c1eae-fa86-4714-c27f-f69e8a41b6ba"
      },
      "execution_count": null,
      "outputs": [
        {
          "output_type": "stream",
          "name": "stdout",
          "text": [
            "Model: \"sequential_2\"\n",
            "_________________________________________________________________\n",
            " Layer (type)                Output Shape              Param #   \n",
            "=================================================================\n",
            " dense_6 (Dense)             (None, 90)                900       \n",
            "                                                                 \n",
            " dense_7 (Dense)             (None, 100)               9100      \n",
            "                                                                 \n",
            " dense_8 (Dense)             (None, 2)                 202       \n",
            "                                                                 \n",
            "=================================================================\n",
            "Total params: 10,202\n",
            "Trainable params: 10,202\n",
            "Non-trainable params: 0\n",
            "_________________________________________________________________\n"
          ]
        }
      ]
    },
    {
      "cell_type": "markdown",
      "source": [
        "Lets evaluate algorithm by using this loss & accuracy graphical values"
      ],
      "metadata": {
        "id": "as2CQ_9PaIxc"
      }
    },
    {
      "cell_type": "code",
      "source": [
        "pd.DataFrame(history.history).plot(figsize=(8, 5))\n",
        "plt.grid(True)\n",
        "plt.gca().set_ylim(0, 1) # set the vertical range to [0-1]\n",
        "plt.show()"
      ],
      "metadata": {
        "colab": {
          "base_uri": "https://localhost:8080/",
          "height": 324
        },
        "id": "Af1ZPxvuxRhk",
        "outputId": "e1ab1169-ef3d-41e5-eaa2-b9ccc0f77053"
      },
      "execution_count": null,
      "outputs": [
        {
          "output_type": "display_data",
          "data": {
            "text/plain": [
              "<Figure size 576x360 with 1 Axes>"
            ],
            "image/png": "[encoded data removed]"
          },
          "metadata": {
            "needs_background": "light"
          }
        }
      ]
    },
    {
      "cell_type": "code",
      "source": [
        "score = model.evaluate(x_test, y_test2 )\n",
        "print(\"score:\",score)"
      ],
      "metadata": {
        "colab": {
          "base_uri": "https://localhost:8080/"
        },
        "id": "Oo-wl7kZxVUF",
        "outputId": "d5c52969-7c33-4e87-ce86-aa90b6848b52"
      },
      "execution_count": null,
      "outputs": [
        {
          "output_type": "stream",
          "name": "stdout",
          "text": [
            "1/1 [==============================] - 0s 118ms/step - loss: 0.0105 - accuracy: 1.0000\n",
            "score: [0.01054710615426302, 1.0]\n"
          ]
        }
      ]
    },
    {
      "cell_type": "code",
      "source": [
        "predict2 = model.predict(x_test)\n",
        "print(\"predict_classes:\",predict2)\n",
        "print(\"y_test\",y_test[:])"
      ],
      "metadata": {
        "colab": {
          "base_uri": "https://localhost:8080/"
        },
        "id": "wwQHHZJlxbMJ",
        "outputId": "9c9416d6-514f-43f9-aa90-a4da7936df55"
      },
      "execution_count": null,
      "outputs": [
        {
          "output_type": "stream",
          "name": "stdout",
          "text": [
            "predict_classes: [[1.63351919e-03 9.98366535e-01]\n",
            " [1.93468593e-02 9.80653167e-01]\n",
            " [9.89381075e-01 1.06189428e-02]\n",
            " [1.75090320e-02 9.82490957e-01]\n",
            " [9.97470498e-01 2.52946722e-03]\n",
            " [6.73243683e-03 9.93267536e-01]\n",
            " [5.60063263e-03 9.94399369e-01]\n",
            " [9.98995125e-01 1.00488344e-03]\n",
            " [4.85084165e-04 9.99514937e-01]\n",
            " [7.08751380e-03 9.92912471e-01]\n",
            " [9.64546204e-01 3.54537964e-02]\n",
            " [9.89110112e-01 1.08899325e-02]\n",
            " [9.86031294e-01 1.39687555e-02]\n",
            " [9.95455861e-01 4.54408769e-03]\n",
            " [9.97989297e-01 2.01076036e-03]\n",
            " [9.72336531e-01 2.76634116e-02]]\n",
            "y_test [1 1 0 1 0 1 1 0 1 1 0 0 0 0 0 0]\n"
          ]
        }
      ]
    },
    {
      "cell_type": "code",
      "source": [
        "# Serialize weights to HDF5\n",
        "model.save_weights(\"UCMmodel.h5\")\n",
        "print (\"Saved model\")"
      ],
      "metadata": {
        "colab": {
          "base_uri": "https://localhost:8080/"
        },
        "id": "zbPRhhIwxeGp",
        "outputId": "6ffa0467-cbf3-4f7f-a9d1-f6444ad9028a"
      },
      "execution_count": null,
      "outputs": [
        {
          "output_type": "stream",
          "name": "stdout",
          "text": [
            "Saved model\n"
          ]
        }
      ]
    },
    {
      "cell_type": "code",
      "source": [
        ""
      ],
      "metadata": {
        "id": "Bc1Yhuq9xiNi"
      },
      "execution_count": null,
      "outputs": []
    }
  ]
}
