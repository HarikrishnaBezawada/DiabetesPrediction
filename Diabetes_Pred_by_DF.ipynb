{
  "nbformat": 4,
  "nbformat_minor": 0,
  "metadata": {
    "colab": {
      "name": "AI Mid DF 1 A.ipynb",
      "provenance": [],
      "collapsed_sections": [],
      "authorship_tag": "ABX9TyPyb9GGFdK5ufnQGp4xOdZR",
      "include_colab_link": true
    },
    "kernelspec": {
      "name": "python3",
      "display_name": "Python 3"
    },
    "language_info": {
      "name": "python"
    }
  },
  "cells": [
    {
      "cell_type": "markdown",
      "metadata": {
        "id": "view-in-github",
        "colab_type": "text"
      },
      "source": [
        "<a href=\"https://colab.research.google.com/github/iamBHK/DiabetesPrediction/blob/main/Diabetes_Pred_by_DF.ipynb\" target=\"_parent\"><img src=\"https://colab.research.google.com/assets/colab-badge.svg\" alt=\"Open In Colab\"/></a>"
      ]
    },
    {
      "cell_type": "code",
      "execution_count": null,
      "metadata": {
        "colab": {
          "base_uri": "https://localhost:8080/",
          "height": 583
        },
        "id": "kAYH03U0wKOn",
        "outputId": "87909f07-4c63-43b3-a9a8-81a9447ebdc3"
      },
      "outputs": [
        {
          "output_type": "stream",
          "name": "stdout",
          "text": [
            "Collecting deep-forest\n",
            "  Downloading deep_forest-0.1.5-cp37-cp37m-manylinux2010_x86_64.whl (2.4 MB)\n",
            "\u001b[K     |████████████████████████████████| 2.4 MB 4.3 MB/s \n",
            "\u001b[?25hRequirement already satisfied: scikit-learn>=0.22 in /usr/local/lib/python3.7/dist-packages (from deep-forest) (1.0.2)\n",
            "Requirement already satisfied: scipy>=0.19.1 in /usr/local/lib/python3.7/dist-packages (from deep-forest) (1.4.1)\n",
            "Collecting numpy<1.20.0,>=1.16.0\n",
            "  Downloading numpy-1.19.5-cp37-cp37m-manylinux2010_x86_64.whl (14.8 MB)\n",
            "\u001b[K     |████████████████████████████████| 14.8 MB 30.2 MB/s \n",
            "\u001b[?25hRequirement already satisfied: joblib>=0.11 in /usr/local/lib/python3.7/dist-packages (from deep-forest) (1.1.0)\n",
            "Requirement already satisfied: threadpoolctl>=2.0.0 in /usr/local/lib/python3.7/dist-packages (from scikit-learn>=0.22->deep-forest) (3.1.0)\n",
            "Installing collected packages: numpy, deep-forest\n",
            "  Attempting uninstall: numpy\n",
            "    Found existing installation: numpy 1.21.6\n",
            "    Uninstalling numpy-1.21.6:\n",
            "      Successfully uninstalled numpy-1.21.6\n",
            "\u001b[31mERROR: pip's dependency resolver does not currently take into account all the packages that are installed. This behaviour is the source of the following dependency conflicts.\n",
            "tensorflow 2.8.0 requires tf-estimator-nightly==2.8.0.dev2021122109, which is not installed.\n",
            "tensorflow 2.8.0 requires numpy>=1.20, but you have numpy 1.19.5 which is incompatible.\n",
            "datascience 0.10.6 requires folium==0.2.1, but you have folium 0.8.3 which is incompatible.\n",
            "albumentations 0.1.12 requires imgaug<0.2.7,>=0.2.5, but you have imgaug 0.2.9 which is incompatible.\u001b[0m\n",
            "Successfully installed deep-forest-0.1.5 numpy-1.19.5\n"
          ]
        },
        {
          "output_type": "display_data",
          "data": {
            "application/vnd.colab-display-data+json": {
              "pip_warning": {
                "packages": [
                  "numpy"
                ]
              }
            }
          },
          "metadata": {}
        },
        {
          "output_type": "stream",
          "name": "stdout",
          "text": [
            "Requirement already satisfied: opencv-python in /usr/local/lib/python3.7/dist-packages (4.1.2.30)\n",
            "Requirement already satisfied: numpy>=1.14.5 in /usr/local/lib/python3.7/dist-packages (from opencv-python) (1.19.5)\n",
            "Collecting tensorflow==2.7.0\n",
            "  Downloading tensorflow-2.7.0-cp37-cp37m-manylinux2010_x86_64.whl (489.6 MB)\n",
            "\u001b[K     |█                               | 15.5 MB 3.7 MB/s eta 0:02:09"
          ]
        }
      ],
      "source": [
        "!pip install deep-forest\n",
        "!pip install opencv-python\n",
        "!pip install tensorflow==2.7.0"
      ]
    },
    {
      "cell_type": "code",
      "source": [
        "from deepforest import CascadeForestClassifier\n",
        "from keras.models import Sequential\n",
        "from keras.models import model_from_json\n",
        "from keras.callbacks import TensorBoard\n",
        "from keras import optimizers\n",
        "import time\n",
        "from sklearn.model_selection import train_test_split\n",
        "import tensorflow as tf\n",
        "from sklearn import model_selection\n",
        "import pandas as pd\n",
        "import numpy as np\n",
        "import matplotlib.pyplot as plt\n",
        "import pickle\n",
        "import os\n",
        "from sklearn.metrics import accuracy_score\n",
        "import seaborn as sns"
      ],
      "metadata": {
        "id": "35bE2S3WwNx3"
      },
      "execution_count": 97,
      "outputs": []
    },
    {
      "cell_type": "code",
      "source": [
        "df = pd.read_csv ('diabetes.csv',encoding='utf-8')\n",
        "print(df.head())"
      ],
      "metadata": {
        "colab": {
          "base_uri": "https://localhost:8080/"
        },
        "id": "e03K6qISwq6f",
        "outputId": "8550a2ef-210f-4263-dff0-57dc896fa4de"
      },
      "execution_count": 132,
      "outputs": [
        {
          "output_type": "stream",
          "name": "stdout",
          "text": [
            "   Pregnancies  Glucose  BloodPressure  SkinThickness  Insulin   BMI  \\\n",
            "0            6      148             72             35        0  33.6   \n",
            "1            1       85             66             29        0  26.6   \n",
            "2            8      183             64              0        0  23.3   \n",
            "3            1       89             66             23       94  28.1   \n",
            "4            0      137             40             35      168  43.1   \n",
            "\n",
            "   DiabetesPedigreeFunction  Age  Outcome  \n",
            "0                     0.627   50        1  \n",
            "1                     0.351   31        0  \n",
            "2                     0.672   32        1  \n",
            "3                     0.167   21        0  \n",
            "4                     2.288   33        1  \n"
          ]
        }
      ]
    },
    {
      "cell_type": "code",
      "source": [
        "X =df[['Pregnancies',\t'Glucose'\t,'BloodPressure',\t'SkinThickness',\t'Insulin',\t'BMI',\t'DiabetesPedigreeFunction'\t,'Age',\t'Outcome']]\n",
        "dim=X.shape[1]"
      ],
      "metadata": {
        "id": "jAS3p_wnxClF"
      },
      "execution_count": 228,
      "outputs": []
    },
    {
      "cell_type": "code",
      "source": [
        "x_train=[]\n",
        "\n",
        "for i in X:\n",
        "  x_train.append(i)\n",
        "\n",
        "x_test=[]\n",
        "\n",
        "for i in X[:100:]:\n",
        "  x_test.append(i)"
      ],
      "metadata": {
        "id": "C27iliSW4Aqv"
      },
      "execution_count": 156,
      "outputs": []
    },
    {
      "cell_type": "code",
      "source": [
        "train_x=np.array(x_train)\n",
        "test_x=np.array(x_test)"
      ],
      "metadata": {
        "id": "hNb2eJ3K4nO9"
      },
      "execution_count": 157,
      "outputs": []
    },
    {
      "cell_type": "code",
      "source": [
        "foo = sns.heatmap(X.corr(), vmax=1, square=True, annot=True)\n",
        "plt.figure(figsize=(64,64))\n",
        "X=X.to_numpy()\n",
        "Y= df[['Outcome']] # 2D\n",
        "Y=Y.to_numpy()\n",
        "t1=Y.shape[0]\n",
        "Y=np.reshape(Y,(t1,))  # 2D\n",
        "x_train , x_test , y_train , y_test = train_test_split(X,Y,test_size=0.02)"
      ],
      "metadata": {
        "colab": {
          "base_uri": "https://localhost:8080/",
          "height": 407
        },
        "id": "YWCe0nqR9ajw",
        "outputId": "2603ee27-e739-4dbd-bdac-575e2d832d7e"
      },
      "execution_count": 210,
      "outputs": [
        {
          "output_type": "display_data",
          "data": {
            "text/plain": [
              "<Figure size 432x288 with 2 Axes>"
            ],
            "image/png": "[encoded data removed]"
          },
          "metadata": {
            "needs_background": "light"
          }
        },
        {
          "output_type": "display_data",
          "data": {
            "text/plain": [
              "<Figure size 4608x4608 with 0 Axes>"
            ]
          },
          "metadata": {}
        }
      ]
    },
    {
      "cell_type": "code",
      "source": [
        "x_train=np.array(x_train)\n",
        "y_test=np.array(y_test)"
      ],
      "metadata": {
        "id": "iisvlY6bxbJx"
      },
      "execution_count": 211,
      "outputs": []
    },
    {
      "cell_type": "code",
      "source": [
        "print(y_train.shape,y_test.shape)"
      ],
      "metadata": {
        "colab": {
          "base_uri": "https://localhost:8080/"
        },
        "id": "kplcmxr-x7CL",
        "outputId": "08c59c31-7e4e-484c-c0c9-474b1f7465fe"
      },
      "execution_count": 212,
      "outputs": [
        {
          "output_type": "stream",
          "name": "stdout",
          "text": [
            "(752,) (16,)\n"
          ]
        }
      ]
    },
    {
      "cell_type": "code",
      "source": [
        "print(x_train.shape,x_test.shape)"
      ],
      "metadata": {
        "colab": {
          "base_uri": "https://localhost:8080/"
        },
        "id": "QclJG7if4xob",
        "outputId": "13afd7eb-71d3-476b-cd53-183c861911d2"
      },
      "execution_count": 213,
      "outputs": [
        {
          "output_type": "stream",
          "name": "stdout",
          "text": [
            "(752, 9) (16, 9)\n"
          ]
        }
      ]
    },
    {
      "cell_type": "code",
      "source": [
        "y_train2=tf.keras.utils.to_categorical(y_train)\n",
        "print(y_train2.shape)\n",
        "category=2      \n",
        "y_test2=tf.keras.utils.to_categorical(y_test, num_classes=(category))"
      ],
      "metadata": {
        "colab": {
          "base_uri": "https://localhost:8080/"
        },
        "id": "I50KYvSw-i7I",
        "outputId": "42f7e1a7-0acf-45ff-9a89-ff66bce68c6c"
      },
      "execution_count": 214,
      "outputs": [
        {
          "output_type": "stream",
          "name": "stdout",
          "text": [
            "(752, 2)\n"
          ]
        }
      ]
    },
    {
      "cell_type": "code",
      "source": [
        "#DF Model\n",
        "model = CascadeForestClassifier()\n",
        "#We can import saved model using \"model.load('classifier')\"\n",
        "model.fit(x_train, y_train)\n"
      ],
      "metadata": {
        "colab": {
          "base_uri": "https://localhost:8080/"
        },
        "id": "6fi4U04myDDG",
        "outputId": "078a896f-58af-4f41-a7ac-b5a5c362c5d7"
      },
      "execution_count": 215,
      "outputs": [
        {
          "output_type": "stream",
          "name": "stdout",
          "text": [
            "[2022-04-21 02:23:15.175] Start to fit the model:\n",
            "[2022-04-21 02:23:15.175] Fitting cascade layer = 0 \n",
            "[2022-04-21 02:23:15.776] layer = 0  | Val Acc = 100.000 % | Elapsed = 0.600 s\n",
            "[2022-04-21 02:23:15.778] Fitting cascade layer = 1 \n",
            "[2022-04-21 02:23:16.354] layer = 1  | Val Acc = 100.000 % | Elapsed = 0.575 s\n",
            "[2022-04-21 02:23:16.356] Early stopping counter: 1 out of 2\n",
            "[2022-04-21 02:23:16.358] Fitting cascade layer = 2 \n",
            "[2022-04-21 02:23:16.906] layer = 2  | Val Acc = 100.000 % | Elapsed = 0.548 s\n",
            "[2022-04-21 02:23:16.906] Early stopping counter: 2 out of 2\n",
            "[2022-04-21 02:23:16.906] Handling early stopping\n",
            "[2022-04-21 02:23:16.907] The optimal number of layers: 1\n"
          ]
        }
      ]
    },
    {
      "cell_type": "code",
      "source": [
        "ypred = model.predict(x_train)"
      ],
      "metadata": {
        "colab": {
          "base_uri": "https://localhost:8080/"
        },
        "id": "mewQE8uN0Brr",
        "outputId": "ee3c0e8a-f036-468f-ab50-5dae7f0c5f5b"
      },
      "execution_count": 216,
      "outputs": [
        {
          "output_type": "stream",
          "name": "stdout",
          "text": [
            "[2022-04-21 02:23:16.920] Start to evalute the model:\n",
            "[2022-04-21 02:23:16.922] Evaluating cascade layer = 0 \n"
          ]
        }
      ]
    },
    {
      "cell_type": "code",
      "source": [
        "acc=accuracy_score(ypred,y_train)\n",
        "print(acc)"
      ],
      "metadata": {
        "colab": {
          "base_uri": "https://localhost:8080/"
        },
        "id": "Ib6o-bOiCJkW",
        "outputId": "b9fa2071-e678-46e5-a37d-0d1441897ec5"
      },
      "execution_count": 217,
      "outputs": [
        {
          "output_type": "stream",
          "name": "stdout",
          "text": [
            "1.0\n"
          ]
        }
      ]
    },
    {
      "cell_type": "code",
      "source": [
        "print(\"Test Accuracy: {:.2f}%\".format(acc * 100))"
      ],
      "metadata": {
        "colab": {
          "base_uri": "https://localhost:8080/"
        },
        "id": "JMJY4UXTGpMz",
        "outputId": "cfd04595-e4a5-4630-be3a-077cdc7c0d83"
      },
      "execution_count": 218,
      "outputs": [
        {
          "output_type": "stream",
          "name": "stdout",
          "text": [
            "Test Accuracy: 100.00%\n"
          ]
        }
      ]
    },
    {
      "cell_type": "code",
      "source": [
        "acty = pd.DataFrame(y_test,columns=['values'])\n",
        "predyy = pd.DataFrame(ypred,columns=['values'])"
      ],
      "metadata": {
        "id": "fu22AZe-MiYu"
      },
      "execution_count": 219,
      "outputs": []
    },
    {
      "cell_type": "code",
      "source": [
        "from sklearn.metrics import classification_report, log_loss, accuracy_score, confusion_matrix\n",
        "print(classification_report(y_train, ypred))"
      ],
      "metadata": {
        "colab": {
          "base_uri": "https://localhost:8080/"
        },
        "id": "wd1ld5X5sN2l",
        "outputId": "a4e257b9-df3b-4643-9b02-09a8a278db2b"
      },
      "execution_count": 225,
      "outputs": [
        {
          "output_type": "stream",
          "name": "stdout",
          "text": [
            "              precision    recall  f1-score   support\n",
            "\n",
            "           0       1.00      1.00      1.00       492\n",
            "           1       1.00      1.00      1.00       260\n",
            "\n",
            "    accuracy                           1.00       752\n",
            "   macro avg       1.00      1.00      1.00       752\n",
            "weighted avg       1.00      1.00      1.00       752\n",
            "\n"
          ]
        }
      ]
    },
    {
      "cell_type": "code",
      "source": [
        "cf_matrix = confusion_matrix(y_train, ypred, normalize='true')"
      ],
      "metadata": {
        "id": "RV3iaj9V5uTN"
      },
      "execution_count": 226,
      "outputs": []
    },
    {
      "cell_type": "code",
      "source": [
        "plt.figure(figsize = (15,10))\n",
        "sns.heatmap(X.corr(), vmax=1)\n",
        "plt.show()"
      ],
      "metadata": {
        "colab": {
          "base_uri": "https://localhost:8080/",
          "height": 716
        },
        "id": "AQwK1esC6MCO",
        "outputId": "0fc7b655-7098-4700-c998-6ee4f549a9ef"
      },
      "execution_count": 229,
      "outputs": [
        {
          "output_type": "display_data",
          "data": {
            "text/plain": [
              "<Figure size 1080x720 with 2 Axes>"
            ],
            "image/png": "[encoded data removed]"
          },
          "metadata": {
            "needs_background": "light"
          }
        }
      ]
    },
    {
      "cell_type": "code",
      "source": [
        "acty = pd.DataFrame(y_train,columns=['values'])\n",
        "predyy = pd.DataFrame(ypred,columns=['values'])"
      ],
      "metadata": {
        "id": "RPmVrlkE6vSo"
      },
      "execution_count": 231,
      "outputs": []
    },
    {
      "cell_type": "code",
      "source": [
        "plt.figure(figsize=(10,5))\n",
        "sns.countplot(acty['values'])\n",
        "plt.show()"
      ],
      "metadata": {
        "colab": {
          "base_uri": "https://localhost:8080/",
          "height": 389
        },
        "id": "zgsLDidiN3iX",
        "outputId": "4ec63d87-be0b-42f7-f622-09dba2b6e621"
      },
      "execution_count": 220,
      "outputs": [
        {
          "output_type": "stream",
          "name": "stderr",
          "text": [
            "/usr/local/lib/python3.7/dist-packages/seaborn/_decorators.py:43: FutureWarning: Pass the following variable as a keyword arg: x. From version 0.12, the only valid positional argument will be `data`, and passing other arguments without an explicit keyword will result in an error or misinterpretation.\n",
            "  FutureWarning\n"
          ]
        },
        {
          "output_type": "display_data",
          "data": {
            "text/plain": [
              "<Figure size 720x360 with 1 Axes>"
            ],
            "image/png": "[encoded data removed]"
          },
          "metadata": {
            "needs_background": "light"
          }
        }
      ]
    },
    {
      "cell_type": "code",
      "source": [
        "plt.figure(figsize=(10,5))\n",
        "sns.countplot(predyy['values'])\n",
        "plt.show()"
      ],
      "metadata": {
        "colab": {
          "base_uri": "https://localhost:8080/",
          "height": 389
        },
        "id": "uxlMkNRq9FSH",
        "outputId": "25d0343c-bd8a-4d38-ffe5-f8600d06b499"
      },
      "execution_count": 241,
      "outputs": [
        {
          "output_type": "stream",
          "name": "stderr",
          "text": [
            "/usr/local/lib/python3.7/dist-packages/seaborn/_decorators.py:43: FutureWarning: Pass the following variable as a keyword arg: x. From version 0.12, the only valid positional argument will be `data`, and passing other arguments without an explicit keyword will result in an error or misinterpretation.\n",
            "  FutureWarning\n"
          ]
        },
        {
          "output_type": "display_data",
          "data": {
            "text/plain": [
              "<Figure size 720x360 with 1 Axes>"
            ],
            "image/png": "[encoded data removed]"
          },
          "metadata": {
            "needs_background": "light"
          }
        }
      ]
    },
    {
      "cell_type": "code",
      "source": [
        "#Once this model is created with this name, if you want to save again you should rename \"DiabetesPrediction_DF\"\n",
        "#model.save('DiabetesPrediction_DF1B')"
      ],
      "metadata": {
        "id": "YAPnUvDx8kiv"
      },
      "execution_count": 238,
      "outputs": []
    },
    {
      "cell_type": "code",
      "source": [
        "os.listdir()\n",
        "#See our model is saved in current directory. We can use this model using keras model \"tf.saved_model.load\""
      ],
      "metadata": {
        "colab": {
          "base_uri": "https://localhost:8080/"
        },
        "id": "k3Fx5Wlv8tF7",
        "outputId": "a00869db-a63a-4ef3-9a1a-01f30c423478"
      },
      "execution_count": 239,
      "outputs": [
        {
          "output_type": "execute_result",
          "data": {
            "text/plain": [
              "['.config',\n",
              " 'DiabetesPrediction_DF1B',\n",
              " 'DiabetesPrediction_DF',\n",
              " 'diabetes.csv',\n",
              " 'DiabetesClassification',\n",
              " 'sample_data']"
            ]
          },
          "metadata": {},
          "execution_count": 239
        }
      ]
    }
  ]
}