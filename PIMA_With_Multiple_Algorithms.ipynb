{
  "cells": [
    {
      "cell_type": "markdown",
      "metadata": {
        "id": "view-in-github",
        "colab_type": "text"
      },
      "source": [
        "<a href=\"https://colab.research.google.com/github/iamBHK/DiabetesPrediction/blob/main/PIMA_With_Multiple_Algorithms.ipynb\" target=\"_parent\"><img src=\"https://colab.research.google.com/assets/colab-badge.svg\" alt=\"Open In Colab\"/></a>"
      ]
    },
    {
      "cell_type": "markdown",
      "id": "4583582b",
      "metadata": {
        "id": "4583582b"
      },
      "source": [
        "# Diabetes Prediction using\n",
        "\n",
        "Logistic Regression\n",
        "\n",
        "Random Classifier \n",
        "\n",
        "Decission Tree\n",
        "\n",
        "Support Vector Machine\n",
        "\n",
        "Naive Bias\n",
        "\n",
        "KNN"
      ]
    },
    {
      "cell_type": "markdown",
      "id": "f5a29bf2",
      "metadata": {
        "id": "f5a29bf2"
      },
      "source": [
        "For the PIMA diabetes Logistic Regression has given max accurracy with 78%"
      ]
    },
    {
      "cell_type": "code",
      "execution_count": 5,
      "id": "ddb29873",
      "metadata": {
        "id": "ddb29873"
      },
      "outputs": [],
      "source": [
        "import pandas as pd"
      ]
    },
    {
      "cell_type": "code",
      "execution_count": 6,
      "id": "8c4ca7b9",
      "metadata": {
        "id": "8c4ca7b9"
      },
      "outputs": [],
      "source": [
        "import math"
      ]
    },
    {
      "cell_type": "code",
      "execution_count": 7,
      "id": "d524f714",
      "metadata": {
        "id": "d524f714"
      },
      "outputs": [],
      "source": [
        "import seaborn as sns"
      ]
    },
    {
      "cell_type": "code",
      "execution_count": 8,
      "id": "0fad1178",
      "metadata": {
        "id": "0fad1178"
      },
      "outputs": [],
      "source": [
        "import matplotlib.pyplot as plt"
      ]
    },
    {
      "cell_type": "raw",
      "id": "fef6b351",
      "metadata": {
        "id": "fef6b351"
      },
      "source": [
        "#Import dataset from csv file"
      ]
    },
    {
      "cell_type": "code",
      "execution_count": 9,
      "id": "3178d1d3",
      "metadata": {
        "id": "3178d1d3"
      },
      "outputs": [],
      "source": [
        "file = pd.read_csv('diabetes.csv')"
      ]
    },
    {
      "cell_type": "code",
      "execution_count": 10,
      "id": "4c715ce5",
      "metadata": {
        "colab": {
          "base_uri": "https://localhost:8080/",
          "height": 206
        },
        "id": "4c715ce5",
        "outputId": "eb121e54-4487-41bf-c338-b0df4177e3e7"
      },
      "outputs": [
        {
          "output_type": "execute_result",
          "data": {
            "text/plain": [
              "   Pregnancies  Glucose  BloodPressure  SkinThickness  Insulin   BMI  \\\n",
              "0            6      148             72             35        0  33.6   \n",
              "1            1       85             66             29        0  26.6   \n",
              "2            8      183             64              0        0  23.3   \n",
              "3            1       89             66             23       94  28.1   \n",
              "4            0      137             40             35      168  43.1   \n",
              "\n",
              "   DiabetesPedigreeFunction  Age  Outcome  \n",
              "0                     0.627   50        1  \n",
              "1                     0.351   31        0  \n",
              "2                     0.672   32        1  \n",
              "3                     0.167   21        0  \n",
              "4                     2.288   33        1  "
            ],
            "text/html": [
              "\n",
              "  <div id=\"df-f241550c-155e-4f97-9985-e28e8aee64ba\">\n",
              "    <div class=\"colab-df-container\">\n",
              "      <div>\n",
              "<style scoped>\n",
              "    .dataframe tbody tr th:only-of-type {\n",
              "        vertical-align: middle;\n",
              "    }\n",
              "\n",
              "    .dataframe tbody tr th {\n",
              "        vertical-align: top;\n",
              "    }\n",
              "\n",
              "    .dataframe thead th {\n",
              "        text-align: right;\n",
              "    }\n",
              "</style>\n",
              "<table border=\"1\" class=\"dataframe\">\n",
              "  <thead>\n",
              "    <tr style=\"text-align: right;\">\n",
              "      <th></th>\n",
              "      <th>Pregnancies</th>\n",
              "      <th>Glucose</th>\n",
              "      <th>BloodPressure</th>\n",
              "      <th>SkinThickness</th>\n",
              "      <th>Insulin</th>\n",
              "      <th>BMI</th>\n",
              "      <th>DiabetesPedigreeFunction</th>\n",
              "      <th>Age</th>\n",
              "      <th>Outcome</th>\n",
              "    </tr>\n",
              "  </thead>\n",
              "  <tbody>\n",
              "    <tr>\n",
              "      <th>0</th>\n",
              "      <td>6</td>\n",
              "      <td>148</td>\n",
              "      <td>72</td>\n",
              "      <td>35</td>\n",
              "      <td>0</td>\n",
              "      <td>33.6</td>\n",
              "      <td>0.627</td>\n",
              "      <td>50</td>\n",
              "      <td>1</td>\n",
              "    </tr>\n",
              "    <tr>\n",
              "      <th>1</th>\n",
              "      <td>1</td>\n",
              "      <td>85</td>\n",
              "      <td>66</td>\n",
              "      <td>29</td>\n",
              "      <td>0</td>\n",
              "      <td>26.6</td>\n",
              "      <td>0.351</td>\n",
              "      <td>31</td>\n",
              "      <td>0</td>\n",
              "    </tr>\n",
              "    <tr>\n",
              "      <th>2</th>\n",
              "      <td>8</td>\n",
              "      <td>183</td>\n",
              "      <td>64</td>\n",
              "      <td>0</td>\n",
              "      <td>0</td>\n",
              "      <td>23.3</td>\n",
              "      <td>0.672</td>\n",
              "      <td>32</td>\n",
              "      <td>1</td>\n",
              "    </tr>\n",
              "    <tr>\n",
              "      <th>3</th>\n",
              "      <td>1</td>\n",
              "      <td>89</td>\n",
              "      <td>66</td>\n",
              "      <td>23</td>\n",
              "      <td>94</td>\n",
              "      <td>28.1</td>\n",
              "      <td>0.167</td>\n",
              "      <td>21</td>\n",
              "      <td>0</td>\n",
              "    </tr>\n",
              "    <tr>\n",
              "      <th>4</th>\n",
              "      <td>0</td>\n",
              "      <td>137</td>\n",
              "      <td>40</td>\n",
              "      <td>35</td>\n",
              "      <td>168</td>\n",
              "      <td>43.1</td>\n",
              "      <td>2.288</td>\n",
              "      <td>33</td>\n",
              "      <td>1</td>\n",
              "    </tr>\n",
              "  </tbody>\n",
              "</table>\n",
              "</div>\n",
              "      <button class=\"colab-df-convert\" onclick=\"convertToInteractive('df-f241550c-155e-4f97-9985-e28e8aee64ba')\"\n",
              "              title=\"Convert this dataframe to an interactive table.\"\n",
              "              style=\"display:none;\">\n",
              "        \n",
              "  <svg xmlns=\"http://www.w3.org/2000/svg\" height=\"24px\"viewBox=\"0 0 24 24\"\n",
              "       width=\"24px\">\n",
              "    <path d=\"M0 0h24v24H0V0z\" fill=\"none\"/>\n",
              "    <path d=\"M18.56 5.44l.94 2.06.94-2.06 2.06-.94-2.06-.94-.94-2.06-.94 2.06-2.06.94zm-11 1L8.5 8.5l.94-2.06 2.06-.94-2.06-.94L8.5 2.5l-.94 2.06-2.06.94zm10 10l.94 2.06.94-2.06 2.06-.94-2.06-.94-.94-2.06-.94 2.06-2.06.94z\"/><path d=\"M17.41 7.96l-1.37-1.37c-.4-.4-.92-.59-1.43-.59-.52 0-1.04.2-1.43.59L10.3 9.45l-7.72 7.72c-.78.78-.78 2.05 0 2.83L4 21.41c.39.39.9.59 1.41.59.51 0 1.02-.2 1.41-.59l7.78-7.78 2.81-2.81c.8-.78.8-2.07 0-2.86zM5.41 20L4 18.59l7.72-7.72 1.47 1.35L5.41 20z\"/>\n",
              "  </svg>\n",
              "      </button>\n",
              "      \n",
              "  <style>\n",
              "    .colab-df-container {\n",
              "      display:flex;\n",
              "      flex-wrap:wrap;\n",
              "      gap: 12px;\n",
              "    }\n",
              "\n",
              "    .colab-df-convert {\n",
              "      background-color: #E8F0FE;\n",
              "      border: none;\n",
              "      border-radius: 50%;\n",
              "      cursor: pointer;\n",
              "      display: none;\n",
              "      fill: #1967D2;\n",
              "      height: 32px;\n",
              "      padding: 0 0 0 0;\n",
              "      width: 32px;\n",
              "    }\n",
              "\n",
              "    .colab-df-convert:hover {\n",
              "      background-color: #E2EBFA;\n",
              "      box-shadow: 0px 1px 2px rgba(60, 64, 67, 0.3), 0px 1px 3px 1px rgba(60, 64, 67, 0.15);\n",
              "      fill: #174EA6;\n",
              "    }\n",
              "\n",
              "    [theme=dark] .colab-df-convert {\n",
              "      background-color: #3B4455;\n",
              "      fill: #D2E3FC;\n",
              "    }\n",
              "\n",
              "    [theme=dark] .colab-df-convert:hover {\n",
              "      background-color: #434B5C;\n",
              "      box-shadow: 0px 1px 3px 1px rgba(0, 0, 0, 0.15);\n",
              "      filter: drop-shadow(0px 1px 2px rgba(0, 0, 0, 0.3));\n",
              "      fill: #FFFFFF;\n",
              "    }\n",
              "  </style>\n",
              "\n",
              "      <script>\n",
              "        const buttonEl =\n",
              "          document.querySelector('#df-f241550c-155e-4f97-9985-e28e8aee64ba button.colab-df-convert');\n",
              "        buttonEl.style.display =\n",
              "          google.colab.kernel.accessAllowed ? 'block' : 'none';\n",
              "\n",
              "        async function convertToInteractive(key) {\n",
              "          const element = document.querySelector('#df-f241550c-155e-4f97-9985-e28e8aee64ba');\n",
              "          const dataTable =\n",
              "            await google.colab.kernel.invokeFunction('convertToInteractive',\n",
              "                                                     [key], {});\n",
              "          if (!dataTable) return;\n",
              "\n",
              "          const docLinkHtml = 'Like what you see? Visit the ' +\n",
              "            '<a target=\"_blank\" href=https://colab.research.google.com/notebooks/data_table.ipynb>data table notebook</a>'\n",
              "            + ' to learn more about interactive tables.';\n",
              "          element.innerHTML = '';\n",
              "          dataTable['output_type'] = 'display_data';\n",
              "          await google.colab.output.renderOutput(dataTable, element);\n",
              "          const docLink = document.createElement('div');\n",
              "          docLink.innerHTML = docLinkHtml;\n",
              "          element.appendChild(docLink);\n",
              "        }\n",
              "      </script>\n",
              "    </div>\n",
              "  </div>\n",
              "  "
            ]
          },
          "metadata": {},
          "execution_count": 10
        }
      ],
      "source": [
        "file.head()"
      ]
    },
    {
      "cell_type": "code",
      "execution_count": 11,
      "id": "2d402102",
      "metadata": {
        "colab": {
          "base_uri": "https://localhost:8080/",
          "height": 300
        },
        "id": "2d402102",
        "outputId": "6282cb04-9fb1-4ce2-f404-e51f58a8509a"
      },
      "outputs": [
        {
          "output_type": "execute_result",
          "data": {
            "text/plain": [
              "       Pregnancies     Glucose  BloodPressure  SkinThickness     Insulin  \\\n",
              "count   768.000000  768.000000     768.000000     768.000000  768.000000   \n",
              "mean      3.845052  120.894531      69.105469      20.536458   79.799479   \n",
              "std       3.369578   31.972618      19.355807      15.952218  115.244002   \n",
              "min       0.000000    0.000000       0.000000       0.000000    0.000000   \n",
              "25%       1.000000   99.000000      62.000000       0.000000    0.000000   \n",
              "50%       3.000000  117.000000      72.000000      23.000000   30.500000   \n",
              "75%       6.000000  140.250000      80.000000      32.000000  127.250000   \n",
              "max      17.000000  199.000000     122.000000      99.000000  846.000000   \n",
              "\n",
              "              BMI  DiabetesPedigreeFunction         Age     Outcome  \n",
              "count  768.000000                768.000000  768.000000  768.000000  \n",
              "mean    31.992578                  0.471876   33.240885    0.348958  \n",
              "std      7.884160                  0.331329   11.760232    0.476951  \n",
              "min      0.000000                  0.078000   21.000000    0.000000  \n",
              "25%     27.300000                  0.243750   24.000000    0.000000  \n",
              "50%     32.000000                  0.372500   29.000000    0.000000  \n",
              "75%     36.600000                  0.626250   41.000000    1.000000  \n",
              "max     67.100000                  2.420000   81.000000    1.000000  "
            ],
            "text/html": [
              "\n",
              "  <div id=\"df-fbb7bf3b-b50f-46d3-8ce3-01b293827bc8\">\n",
              "    <div class=\"colab-df-container\">\n",
              "      <div>\n",
              "<style scoped>\n",
              "    .dataframe tbody tr th:only-of-type {\n",
              "        vertical-align: middle;\n",
              "    }\n",
              "\n",
              "    .dataframe tbody tr th {\n",
              "        vertical-align: top;\n",
              "    }\n",
              "\n",
              "    .dataframe thead th {\n",
              "        text-align: right;\n",
              "    }\n",
              "</style>\n",
              "<table border=\"1\" class=\"dataframe\">\n",
              "  <thead>\n",
              "    <tr style=\"text-align: right;\">\n",
              "      <th></th>\n",
              "      <th>Pregnancies</th>\n",
              "      <th>Glucose</th>\n",
              "      <th>BloodPressure</th>\n",
              "      <th>SkinThickness</th>\n",
              "      <th>Insulin</th>\n",
              "      <th>BMI</th>\n",
              "      <th>DiabetesPedigreeFunction</th>\n",
              "      <th>Age</th>\n",
              "      <th>Outcome</th>\n",
              "    </tr>\n",
              "  </thead>\n",
              "  <tbody>\n",
              "    <tr>\n",
              "      <th>count</th>\n",
              "      <td>768.000000</td>\n",
              "      <td>768.000000</td>\n",
              "      <td>768.000000</td>\n",
              "      <td>768.000000</td>\n",
              "      <td>768.000000</td>\n",
              "      <td>768.000000</td>\n",
              "      <td>768.000000</td>\n",
              "      <td>768.000000</td>\n",
              "      <td>768.000000</td>\n",
              "    </tr>\n",
              "    <tr>\n",
              "      <th>mean</th>\n",
              "      <td>3.845052</td>\n",
              "      <td>120.894531</td>\n",
              "      <td>69.105469</td>\n",
              "      <td>20.536458</td>\n",
              "      <td>79.799479</td>\n",
              "      <td>31.992578</td>\n",
              "      <td>0.471876</td>\n",
              "      <td>33.240885</td>\n",
              "      <td>0.348958</td>\n",
              "    </tr>\n",
              "    <tr>\n",
              "      <th>std</th>\n",
              "      <td>3.369578</td>\n",
              "      <td>31.972618</td>\n",
              "      <td>19.355807</td>\n",
              "      <td>15.952218</td>\n",
              "      <td>115.244002</td>\n",
              "      <td>7.884160</td>\n",
              "      <td>0.331329</td>\n",
              "      <td>11.760232</td>\n",
              "      <td>0.476951</td>\n",
              "    </tr>\n",
              "    <tr>\n",
              "      <th>min</th>\n",
              "      <td>0.000000</td>\n",
              "      <td>0.000000</td>\n",
              "      <td>0.000000</td>\n",
              "      <td>0.000000</td>\n",
              "      <td>0.000000</td>\n",
              "      <td>0.000000</td>\n",
              "      <td>0.078000</td>\n",
              "      <td>21.000000</td>\n",
              "      <td>0.000000</td>\n",
              "    </tr>\n",
              "    <tr>\n",
              "      <th>25%</th>\n",
              "      <td>1.000000</td>\n",
              "      <td>99.000000</td>\n",
              "      <td>62.000000</td>\n",
              "      <td>0.000000</td>\n",
              "      <td>0.000000</td>\n",
              "      <td>27.300000</td>\n",
              "      <td>0.243750</td>\n",
              "      <td>24.000000</td>\n",
              "      <td>0.000000</td>\n",
              "    </tr>\n",
              "    <tr>\n",
              "      <th>50%</th>\n",
              "      <td>3.000000</td>\n",
              "      <td>117.000000</td>\n",
              "      <td>72.000000</td>\n",
              "      <td>23.000000</td>\n",
              "      <td>30.500000</td>\n",
              "      <td>32.000000</td>\n",
              "      <td>0.372500</td>\n",
              "      <td>29.000000</td>\n",
              "      <td>0.000000</td>\n",
              "    </tr>\n",
              "    <tr>\n",
              "      <th>75%</th>\n",
              "      <td>6.000000</td>\n",
              "      <td>140.250000</td>\n",
              "      <td>80.000000</td>\n",
              "      <td>32.000000</td>\n",
              "      <td>127.250000</td>\n",
              "      <td>36.600000</td>\n",
              "      <td>0.626250</td>\n",
              "      <td>41.000000</td>\n",
              "      <td>1.000000</td>\n",
              "    </tr>\n",
              "    <tr>\n",
              "      <th>max</th>\n",
              "      <td>17.000000</td>\n",
              "      <td>199.000000</td>\n",
              "      <td>122.000000</td>\n",
              "      <td>99.000000</td>\n",
              "      <td>846.000000</td>\n",
              "      <td>67.100000</td>\n",
              "      <td>2.420000</td>\n",
              "      <td>81.000000</td>\n",
              "      <td>1.000000</td>\n",
              "    </tr>\n",
              "  </tbody>\n",
              "</table>\n",
              "</div>\n",
              "      <button class=\"colab-df-convert\" onclick=\"convertToInteractive('df-fbb7bf3b-b50f-46d3-8ce3-01b293827bc8')\"\n",
              "              title=\"Convert this dataframe to an interactive table.\"\n",
              "              style=\"display:none;\">\n",
              "        \n",
              "  <svg xmlns=\"http://www.w3.org/2000/svg\" height=\"24px\"viewBox=\"0 0 24 24\"\n",
              "       width=\"24px\">\n",
              "    <path d=\"M0 0h24v24H0V0z\" fill=\"none\"/>\n",
              "    <path d=\"M18.56 5.44l.94 2.06.94-2.06 2.06-.94-2.06-.94-.94-2.06-.94 2.06-2.06.94zm-11 1L8.5 8.5l.94-2.06 2.06-.94-2.06-.94L8.5 2.5l-.94 2.06-2.06.94zm10 10l.94 2.06.94-2.06 2.06-.94-2.06-.94-.94-2.06-.94 2.06-2.06.94z\"/><path d=\"M17.41 7.96l-1.37-1.37c-.4-.4-.92-.59-1.43-.59-.52 0-1.04.2-1.43.59L10.3 9.45l-7.72 7.72c-.78.78-.78 2.05 0 2.83L4 21.41c.39.39.9.59 1.41.59.51 0 1.02-.2 1.41-.59l7.78-7.78 2.81-2.81c.8-.78.8-2.07 0-2.86zM5.41 20L4 18.59l7.72-7.72 1.47 1.35L5.41 20z\"/>\n",
              "  </svg>\n",
              "      </button>\n",
              "      \n",
              "  <style>\n",
              "    .colab-df-container {\n",
              "      display:flex;\n",
              "      flex-wrap:wrap;\n",
              "      gap: 12px;\n",
              "    }\n",
              "\n",
              "    .colab-df-convert {\n",
              "      background-color: #E8F0FE;\n",
              "      border: none;\n",
              "      border-radius: 50%;\n",
              "      cursor: pointer;\n",
              "      display: none;\n",
              "      fill: #1967D2;\n",
              "      height: 32px;\n",
              "      padding: 0 0 0 0;\n",
              "      width: 32px;\n",
              "    }\n",
              "\n",
              "    .colab-df-convert:hover {\n",
              "      background-color: #E2EBFA;\n",
              "      box-shadow: 0px 1px 2px rgba(60, 64, 67, 0.3), 0px 1px 3px 1px rgba(60, 64, 67, 0.15);\n",
              "      fill: #174EA6;\n",
              "    }\n",
              "\n",
              "    [theme=dark] .colab-df-convert {\n",
              "      background-color: #3B4455;\n",
              "      fill: #D2E3FC;\n",
              "    }\n",
              "\n",
              "    [theme=dark] .colab-df-convert:hover {\n",
              "      background-color: #434B5C;\n",
              "      box-shadow: 0px 1px 3px 1px rgba(0, 0, 0, 0.15);\n",
              "      filter: drop-shadow(0px 1px 2px rgba(0, 0, 0, 0.3));\n",
              "      fill: #FFFFFF;\n",
              "    }\n",
              "  </style>\n",
              "\n",
              "      <script>\n",
              "        const buttonEl =\n",
              "          document.querySelector('#df-fbb7bf3b-b50f-46d3-8ce3-01b293827bc8 button.colab-df-convert');\n",
              "        buttonEl.style.display =\n",
              "          google.colab.kernel.accessAllowed ? 'block' : 'none';\n",
              "\n",
              "        async function convertToInteractive(key) {\n",
              "          const element = document.querySelector('#df-fbb7bf3b-b50f-46d3-8ce3-01b293827bc8');\n",
              "          const dataTable =\n",
              "            await google.colab.kernel.invokeFunction('convertToInteractive',\n",
              "                                                     [key], {});\n",
              "          if (!dataTable) return;\n",
              "\n",
              "          const docLinkHtml = 'Like what you see? Visit the ' +\n",
              "            '<a target=\"_blank\" href=https://colab.research.google.com/notebooks/data_table.ipynb>data table notebook</a>'\n",
              "            + ' to learn more about interactive tables.';\n",
              "          element.innerHTML = '';\n",
              "          dataTable['output_type'] = 'display_data';\n",
              "          await google.colab.output.renderOutput(dataTable, element);\n",
              "          const docLink = document.createElement('div');\n",
              "          docLink.innerHTML = docLinkHtml;\n",
              "          element.appendChild(docLink);\n",
              "        }\n",
              "      </script>\n",
              "    </div>\n",
              "  </div>\n",
              "  "
            ]
          },
          "metadata": {},
          "execution_count": 11
        }
      ],
      "source": [
        "file.describe()"
      ]
    },
    {
      "cell_type": "markdown",
      "id": "7e4a1f90",
      "metadata": {
        "id": "7e4a1f90"
      },
      "source": [
        "# Checking for Null Values. If any null values we will be replacing with the Average value of that feature"
      ]
    },
    {
      "cell_type": "code",
      "execution_count": 12,
      "id": "f644d2d7",
      "metadata": {
        "colab": {
          "base_uri": "https://localhost:8080/"
        },
        "id": "f644d2d7",
        "outputId": "1a99b4e1-d9bc-41c2-b01b-7a6b829336e5"
      },
      "outputs": [
        {
          "output_type": "stream",
          "name": "stdout",
          "text": [
            "Rows :  768\n",
            "Columns : 9\n",
            "-------------------\n",
            "<class 'pandas.core.frame.DataFrame'>\n",
            "RangeIndex: 768 entries, 0 to 767\n",
            "Data columns (total 9 columns):\n",
            " #   Column                    Non-Null Count  Dtype  \n",
            "---  ------                    --------------  -----  \n",
            " 0   Pregnancies               768 non-null    int64  \n",
            " 1   Glucose                   768 non-null    int64  \n",
            " 2   BloodPressure             768 non-null    int64  \n",
            " 3   SkinThickness             768 non-null    int64  \n",
            " 4   Insulin                   768 non-null    int64  \n",
            " 5   BMI                       768 non-null    float64\n",
            " 6   DiabetesPedigreeFunction  768 non-null    float64\n",
            " 7   Age                       768 non-null    int64  \n",
            " 8   Outcome                   768 non-null    int64  \n",
            "dtypes: float64(2), int64(7)\n",
            "memory usage: 54.1 KB\n",
            "Null are :  Pregnancies                 0\n",
            "Glucose                     0\n",
            "BloodPressure               0\n",
            "SkinThickness               0\n",
            "Insulin                     0\n",
            "BMI                         0\n",
            "DiabetesPedigreeFunction    0\n",
            "Age                         0\n",
            "Outcome                     0\n",
            "dtype: int64\n"
          ]
        }
      ],
      "source": [
        "print(\"Rows : \",file.shape[0])\n",
        "print(\"Columns :\", file.shape[1])\n",
        "print(\"-------------------\")\n",
        "file.info()\n",
        "\n",
        "print(\"Null are : \", file.isna().sum())"
      ]
    },
    {
      "cell_type": "code",
      "execution_count": 13,
      "id": "06755482",
      "metadata": {
        "colab": {
          "base_uri": "https://localhost:8080/",
          "height": 386
        },
        "id": "06755482",
        "outputId": "5c7e9f2f-dacc-4b2b-969a-1c9195691607"
      },
      "outputs": [
        {
          "output_type": "display_data",
          "data": {
            "text/plain": [
              "<Figure size 432x288 with 2 Axes>"
            ],
            "image/png": "[encoded data removed]"
          },
          "metadata": {
            "needs_background": "light"
          }
        }
      ],
      "source": [
        "sns.heatmap(file, yticklabels=False, cmap='viridis')\n",
        "plt.show()"
      ]
    },
    {
      "cell_type": "code",
      "execution_count": 14,
      "id": "321a21bb",
      "metadata": {
        "id": "321a21bb"
      },
      "outputs": [],
      "source": [
        "Pregnancies = file.Pregnancies\n",
        "Glucose = file.Glucose\n",
        "BloodPressure = file.BloodPressure\n",
        "SkinThickness = file.SkinThickness\n",
        "Insulin = file.Insulin\n",
        "BMI = file.BMI\n",
        "DPF = file.DiabetesPedigreeFunction\n",
        "Age = file.Age\n",
        "Outcome = file.Outcome"
      ]
    },
    {
      "cell_type": "code",
      "execution_count": 15,
      "id": "91021604",
      "metadata": {
        "id": "91021604"
      },
      "outputs": [],
      "source": [
        "X = file[['Pregnancies', 'Glucose', 'BloodPressure', 'SkinThickness', 'Insulin', 'BMI', 'DiabetesPedigreeFunction', 'Age', 'Outcome']]"
      ]
    },
    {
      "cell_type": "code",
      "execution_count": 16,
      "id": "6eae898a",
      "metadata": {
        "colab": {
          "base_uri": "https://localhost:8080/",
          "height": 407
        },
        "id": "6eae898a",
        "outputId": "f35e7474-e31a-448e-922b-b8b1afed54ac"
      },
      "outputs": [
        {
          "output_type": "display_data",
          "data": {
            "text/plain": [
              "<Figure size 432x288 with 2 Axes>"
            ],
            "image/png": "[encoded data removed]"
          },
          "metadata": {
            "needs_background": "light"
          }
        },
        {
          "output_type": "display_data",
          "data": {
            "text/plain": [
              "<Figure size 1440x1440 with 0 Axes>"
            ]
          },
          "metadata": {}
        }
      ],
      "source": [
        "# annot : shows values\n",
        "# X.corr() ; corr() will build correlation b/w all features in X\n",
        "H_Map = sns.heatmap(X.corr(), vmax=1, annot=True)\n",
        "plt.figure(figsize=(20,20))\n",
        "plt.show()"
      ]
    },
    {
      "cell_type": "markdown",
      "id": "83a55796",
      "metadata": {
        "id": "83a55796"
      },
      "source": [
        "# Building predictions among the features will helps us to decide among all the available features"
      ]
    },
    {
      "cell_type": "code",
      "execution_count": 17,
      "id": "723412e1",
      "metadata": {
        "colab": {
          "base_uri": "https://localhost:8080/",
          "height": 296
        },
        "id": "723412e1",
        "outputId": "8e1ab178-5259-45f4-dfbb-2cb4a92841a1"
      },
      "outputs": [
        {
          "output_type": "execute_result",
          "data": {
            "text/plain": [
              "<BarContainer object of 18 artists>"
            ]
          },
          "metadata": {},
          "execution_count": 17
        },
        {
          "output_type": "display_data",
          "data": {
            "text/plain": [
              "<Figure size 432x288 with 1 Axes>"
            ],
            "image/png": "[encoded data removed]"
          },
          "metadata": {
            "needs_background": "light"
          }
        }
      ],
      "source": [
        "head = file.head(18)\n",
        "plt.xlabel('Glucose')\n",
        "plt.ylabel('Age')\n",
        "plt.bar(head.Glucose, head.Age)"
      ]
    },
    {
      "cell_type": "code",
      "execution_count": 22,
      "id": "ee32ef41",
      "metadata": {
        "colab": {
          "base_uri": "https://localhost:8080/",
          "height": 296
        },
        "id": "ee32ef41",
        "outputId": "cc70a6da-4bef-4089-9128-8997d872543c"
      },
      "outputs": [
        {
          "output_type": "execute_result",
          "data": {
            "text/plain": [
              "<matplotlib.axes._subplots.AxesSubplot at 0x7f4d5f0a1d90>"
            ]
          },
          "metadata": {},
          "execution_count": 22
        },
        {
          "output_type": "display_data",
          "data": {
            "text/plain": [
              "<Figure size 432x288 with 1 Axes>"
            ],
            "image/png": "[encoded data removed]"
          },
          "metadata": {}
        }
      ],
      "source": [
        "# sns.displot(x=file.Outcome, color='blue')\n",
        "\n",
        "\n",
        "sns.countplot(data=file, x='Outcome')"
      ]
    },
    {
      "cell_type": "code",
      "execution_count": 23,
      "id": "191f19b4",
      "metadata": {
        "id": "191f19b4"
      },
      "outputs": [],
      "source": [
        "sns.set_style('whitegrid')\n",
        "\n",
        "cmap = sns.cubehelix_palette(dark=0, light=1, as_cmap=True)"
      ]
    },
    {
      "cell_type": "code",
      "execution_count": 24,
      "id": "893789a9",
      "metadata": {
        "colab": {
          "base_uri": "https://localhost:8080/",
          "height": 279
        },
        "id": "893789a9",
        "outputId": "3ee579eb-6c34-4966-94c8-bbb0c463e36c"
      },
      "outputs": [
        {
          "output_type": "display_data",
          "data": {
            "text/plain": [
              "<Figure size 432x288 with 1 Axes>"
            ],
            "image/png": "[encoded data removed]"
          },
          "metadata": {}
        }
      ],
      "source": [
        "do = sns.histplot(x=Glucose, kde=True)"
      ]
    },
    {
      "cell_type": "code",
      "execution_count": 25,
      "id": "7ac10810",
      "metadata": {
        "colab": {
          "base_uri": "https://localhost:8080/",
          "height": 458
        },
        "id": "7ac10810",
        "outputId": "e2304c92-d80d-4a35-b867-8a69adcb921e"
      },
      "outputs": [
        {
          "output_type": "execute_result",
          "data": {
            "text/plain": [
              "<seaborn.axisgrid.JointGrid at 0x7f4d5efa2a50>"
            ]
          },
          "metadata": {},
          "execution_count": 25
        },
        {
          "output_type": "display_data",
          "data": {
            "text/plain": [
              "<Figure size 432x432 with 3 Axes>"
            ],
            "image/png": "[encoded data removed]"
          },
          "metadata": {}
        }
      ],
      "source": [
        "sns.jointplot(x=file.Age, y=file.BloodPressure)"
      ]
    },
    {
      "cell_type": "code",
      "execution_count": 26,
      "id": "b0341745",
      "metadata": {
        "colab": {
          "base_uri": "https://localhost:8080/",
          "height": 296
        },
        "id": "b0341745",
        "outputId": "e27827b5-2818-4a66-fb3b-7e7764c14cb0"
      },
      "outputs": [
        {
          "output_type": "execute_result",
          "data": {
            "text/plain": [
              "<matplotlib.axes._subplots.AxesSubplot at 0x7f4d5f32f090>"
            ]
          },
          "metadata": {},
          "execution_count": 26
        },
        {
          "output_type": "display_data",
          "data": {
            "text/plain": [
              "<Figure size 432x288 with 1 Axes>"
            ],
            "image/png": "[encoded data removed]"
          },
          "metadata": {}
        }
      ],
      "source": [
        "#bins : number of batches should be the o/p grouped into\n",
        "sns.histplot(x=Age, bins=20, kde=True)"
      ]
    },
    {
      "cell_type": "code",
      "execution_count": 27,
      "id": "27771f7e",
      "metadata": {
        "colab": {
          "base_uri": "https://localhost:8080/",
          "height": 296
        },
        "id": "27771f7e",
        "outputId": "18d76399-6880-4adc-ab1e-c31022549b6b"
      },
      "outputs": [
        {
          "output_type": "execute_result",
          "data": {
            "text/plain": [
              "<matplotlib.axes._subplots.AxesSubplot at 0x7f4d5f1fbb10>"
            ]
          },
          "metadata": {},
          "execution_count": 27
        },
        {
          "output_type": "display_data",
          "data": {
            "text/plain": [
              "<Figure size 432x288 with 1 Axes>"
            ],
            "image/png": "[encoded data removed]"
          },
          "metadata": {}
        }
      ],
      "source": [
        "sns.histplot(x=file.Glucose, kde=True)"
      ]
    },
    {
      "cell_type": "code",
      "execution_count": 28,
      "id": "0e7f4baf",
      "metadata": {
        "colab": {
          "base_uri": "https://localhost:8080/",
          "height": 458
        },
        "id": "0e7f4baf",
        "outputId": "c80a1996-4bca-40cb-f3c8-52b25a4b19f0"
      },
      "outputs": [
        {
          "output_type": "execute_result",
          "data": {
            "text/plain": [
              "<seaborn.axisgrid.JointGrid at 0x7f4d5eddc910>"
            ]
          },
          "metadata": {},
          "execution_count": 28
        },
        {
          "output_type": "display_data",
          "data": {
            "text/plain": [
              "<Figure size 432x432 with 3 Axes>"
            ],
            "image/png": "[encoded data removed]"
          },
          "metadata": {}
        }
      ],
      "source": [
        "sns.jointplot(x=Pregnancies, y=BloodPressure)"
      ]
    },
    {
      "cell_type": "code",
      "execution_count": 29,
      "id": "04712d4f",
      "metadata": {
        "colab": {
          "base_uri": "https://localhost:8080/",
          "height": 314
        },
        "id": "04712d4f",
        "outputId": "7e0c4749-fa3b-4a95-a3e1-96649803bdfa"
      },
      "outputs": [
        {
          "output_type": "execute_result",
          "data": {
            "text/plain": [
              "<Figure size 1440x720 with 0 Axes>"
            ]
          },
          "metadata": {},
          "execution_count": 29
        },
        {
          "output_type": "display_data",
          "data": {
            "text/plain": [
              "<Figure size 432x288 with 1 Axes>"
            ],
            "image/png": "[encoded data removed]"
          },
          "metadata": {}
        },
        {
          "output_type": "display_data",
          "data": {
            "text/plain": [
              "<Figure size 1440x720 with 0 Axes>"
            ]
          },
          "metadata": {}
        }
      ],
      "source": [
        "sns.barplot(x=file.Age, y=file.BloodPressure)\n",
        "plt.figure(figsize=(20,10))"
      ]
    },
    {
      "cell_type": "code",
      "execution_count": 30,
      "id": "4e98bcf5",
      "metadata": {
        "id": "4e98bcf5"
      },
      "outputs": [],
      "source": [
        "from sklearn.model_selection import train_test_split"
      ]
    },
    {
      "cell_type": "code",
      "execution_count": 31,
      "id": "c382670a",
      "metadata": {
        "id": "c382670a"
      },
      "outputs": [],
      "source": [
        "X_train,X_test,Y_train,Y_test = train_test_split(file.drop('Outcome', axis=1), file['Outcome'], test_size=0.3, random_state=101)"
      ]
    },
    {
      "cell_type": "code",
      "execution_count": 32,
      "id": "c4402205",
      "metadata": {
        "colab": {
          "base_uri": "https://localhost:8080/",
          "height": 424
        },
        "id": "c4402205",
        "outputId": "95f3c8c5-fe11-45b9-9b85-48441dc52e69"
      },
      "outputs": [
        {
          "output_type": "execute_result",
          "data": {
            "text/plain": [
              "     Pregnancies  Glucose  BloodPressure  SkinThickness  Insulin   BMI  \\\n",
              "711            5      126             78             27       22  29.6   \n",
              "58             0      146             82              0        0  40.5   \n",
              "216            5      109             62             41      129  35.8   \n",
              "168            4      110             66              0        0  31.9   \n",
              "658           11      127            106              0        0  39.0   \n",
              "..           ...      ...            ...            ...      ...   ...   \n",
              "75             1        0             48             20        0  24.7   \n",
              "599            1      109             38             18      120  23.1   \n",
              "575            1      119             44             47       63  35.5   \n",
              "337            5      115             76              0        0  31.2   \n",
              "523            9      130             70              0        0  34.2   \n",
              "\n",
              "     DiabetesPedigreeFunction  Age  \n",
              "711                     0.439   40  \n",
              "58                      1.781   44  \n",
              "216                     0.514   25  \n",
              "168                     0.471   29  \n",
              "658                     0.190   51  \n",
              "..                        ...  ...  \n",
              "75                      0.140   22  \n",
              "599                     0.407   26  \n",
              "575                     0.280   25  \n",
              "337                     0.343   44  \n",
              "523                     0.652   45  \n",
              "\n",
              "[537 rows x 8 columns]"
            ],
            "text/html": [
              "\n",
              "  <div id=\"df-8b1f4c69-5043-45c7-9775-612f040f0808\">\n",
              "    <div class=\"colab-df-container\">\n",
              "      <div>\n",
              "<style scoped>\n",
              "    .dataframe tbody tr th:only-of-type {\n",
              "        vertical-align: middle;\n",
              "    }\n",
              "\n",
              "    .dataframe tbody tr th {\n",
              "        vertical-align: top;\n",
              "    }\n",
              "\n",
              "    .dataframe thead th {\n",
              "        text-align: right;\n",
              "    }\n",
              "</style>\n",
              "<table border=\"1\" class=\"dataframe\">\n",
              "  <thead>\n",
              "    <tr style=\"text-align: right;\">\n",
              "      <th></th>\n",
              "      <th>Pregnancies</th>\n",
              "      <th>Glucose</th>\n",
              "      <th>BloodPressure</th>\n",
              "      <th>SkinThickness</th>\n",
              "      <th>Insulin</th>\n",
              "      <th>BMI</th>\n",
              "      <th>DiabetesPedigreeFunction</th>\n",
              "      <th>Age</th>\n",
              "    </tr>\n",
              "  </thead>\n",
              "  <tbody>\n",
              "    <tr>\n",
              "      <th>711</th>\n",
              "      <td>5</td>\n",
              "      <td>126</td>\n",
              "      <td>78</td>\n",
              "      <td>27</td>\n",
              "      <td>22</td>\n",
              "      <td>29.6</td>\n",
              "      <td>0.439</td>\n",
              "      <td>40</td>\n",
              "    </tr>\n",
              "    <tr>\n",
              "      <th>58</th>\n",
              "      <td>0</td>\n",
              "      <td>146</td>\n",
              "      <td>82</td>\n",
              "      <td>0</td>\n",
              "      <td>0</td>\n",
              "      <td>40.5</td>\n",
              "      <td>1.781</td>\n",
              "      <td>44</td>\n",
              "    </tr>\n",
              "    <tr>\n",
              "      <th>216</th>\n",
              "      <td>5</td>\n",
              "      <td>109</td>\n",
              "      <td>62</td>\n",
              "      <td>41</td>\n",
              "      <td>129</td>\n",
              "      <td>35.8</td>\n",
              "      <td>0.514</td>\n",
              "      <td>25</td>\n",
              "    </tr>\n",
              "    <tr>\n",
              "      <th>168</th>\n",
              "      <td>4</td>\n",
              "      <td>110</td>\n",
              "      <td>66</td>\n",
              "      <td>0</td>\n",
              "      <td>0</td>\n",
              "      <td>31.9</td>\n",
              "      <td>0.471</td>\n",
              "      <td>29</td>\n",
              "    </tr>\n",
              "    <tr>\n",
              "      <th>658</th>\n",
              "      <td>11</td>\n",
              "      <td>127</td>\n",
              "      <td>106</td>\n",
              "      <td>0</td>\n",
              "      <td>0</td>\n",
              "      <td>39.0</td>\n",
              "      <td>0.190</td>\n",
              "      <td>51</td>\n",
              "    </tr>\n",
              "    <tr>\n",
              "      <th>...</th>\n",
              "      <td>...</td>\n",
              "      <td>...</td>\n",
              "      <td>...</td>\n",
              "      <td>...</td>\n",
              "      <td>...</td>\n",
              "      <td>...</td>\n",
              "      <td>...</td>\n",
              "      <td>...</td>\n",
              "    </tr>\n",
              "    <tr>\n",
              "      <th>75</th>\n",
              "      <td>1</td>\n",
              "      <td>0</td>\n",
              "      <td>48</td>\n",
              "      <td>20</td>\n",
              "      <td>0</td>\n",
              "      <td>24.7</td>\n",
              "      <td>0.140</td>\n",
              "      <td>22</td>\n",
              "    </tr>\n",
              "    <tr>\n",
              "      <th>599</th>\n",
              "      <td>1</td>\n",
              "      <td>109</td>\n",
              "      <td>38</td>\n",
              "      <td>18</td>\n",
              "      <td>120</td>\n",
              "      <td>23.1</td>\n",
              "      <td>0.407</td>\n",
              "      <td>26</td>\n",
              "    </tr>\n",
              "    <tr>\n",
              "      <th>575</th>\n",
              "      <td>1</td>\n",
              "      <td>119</td>\n",
              "      <td>44</td>\n",
              "      <td>47</td>\n",
              "      <td>63</td>\n",
              "      <td>35.5</td>\n",
              "      <td>0.280</td>\n",
              "      <td>25</td>\n",
              "    </tr>\n",
              "    <tr>\n",
              "      <th>337</th>\n",
              "      <td>5</td>\n",
              "      <td>115</td>\n",
              "      <td>76</td>\n",
              "      <td>0</td>\n",
              "      <td>0</td>\n",
              "      <td>31.2</td>\n",
              "      <td>0.343</td>\n",
              "      <td>44</td>\n",
              "    </tr>\n",
              "    <tr>\n",
              "      <th>523</th>\n",
              "      <td>9</td>\n",
              "      <td>130</td>\n",
              "      <td>70</td>\n",
              "      <td>0</td>\n",
              "      <td>0</td>\n",
              "      <td>34.2</td>\n",
              "      <td>0.652</td>\n",
              "      <td>45</td>\n",
              "    </tr>\n",
              "  </tbody>\n",
              "</table>\n",
              "<p>537 rows × 8 columns</p>\n",
              "</div>\n",
              "      <button class=\"colab-df-convert\" onclick=\"convertToInteractive('df-8b1f4c69-5043-45c7-9775-612f040f0808')\"\n",
              "              title=\"Convert this dataframe to an interactive table.\"\n",
              "              style=\"display:none;\">\n",
              "        \n",
              "  <svg xmlns=\"http://www.w3.org/2000/svg\" height=\"24px\"viewBox=\"0 0 24 24\"\n",
              "       width=\"24px\">\n",
              "    <path d=\"M0 0h24v24H0V0z\" fill=\"none\"/>\n",
              "    <path d=\"M18.56 5.44l.94 2.06.94-2.06 2.06-.94-2.06-.94-.94-2.06-.94 2.06-2.06.94zm-11 1L8.5 8.5l.94-2.06 2.06-.94-2.06-.94L8.5 2.5l-.94 2.06-2.06.94zm10 10l.94 2.06.94-2.06 2.06-.94-2.06-.94-.94-2.06-.94 2.06-2.06.94z\"/><path d=\"M17.41 7.96l-1.37-1.37c-.4-.4-.92-.59-1.43-.59-.52 0-1.04.2-1.43.59L10.3 9.45l-7.72 7.72c-.78.78-.78 2.05 0 2.83L4 21.41c.39.39.9.59 1.41.59.51 0 1.02-.2 1.41-.59l7.78-7.78 2.81-2.81c.8-.78.8-2.07 0-2.86zM5.41 20L4 18.59l7.72-7.72 1.47 1.35L5.41 20z\"/>\n",
              "  </svg>\n",
              "      </button>\n",
              "      \n",
              "  <style>\n",
              "    .colab-df-container {\n",
              "      display:flex;\n",
              "      flex-wrap:wrap;\n",
              "      gap: 12px;\n",
              "    }\n",
              "\n",
              "    .colab-df-convert {\n",
              "      background-color: #E8F0FE;\n",
              "      border: none;\n",
              "      border-radius: 50%;\n",
              "      cursor: pointer;\n",
              "      display: none;\n",
              "      fill: #1967D2;\n",
              "      height: 32px;\n",
              "      padding: 0 0 0 0;\n",
              "      width: 32px;\n",
              "    }\n",
              "\n",
              "    .colab-df-convert:hover {\n",
              "      background-color: #E2EBFA;\n",
              "      box-shadow: 0px 1px 2px rgba(60, 64, 67, 0.3), 0px 1px 3px 1px rgba(60, 64, 67, 0.15);\n",
              "      fill: #174EA6;\n",
              "    }\n",
              "\n",
              "    [theme=dark] .colab-df-convert {\n",
              "      background-color: #3B4455;\n",
              "      fill: #D2E3FC;\n",
              "    }\n",
              "\n",
              "    [theme=dark] .colab-df-convert:hover {\n",
              "      background-color: #434B5C;\n",
              "      box-shadow: 0px 1px 3px 1px rgba(0, 0, 0, 0.15);\n",
              "      filter: drop-shadow(0px 1px 2px rgba(0, 0, 0, 0.3));\n",
              "      fill: #FFFFFF;\n",
              "    }\n",
              "  </style>\n",
              "\n",
              "      <script>\n",
              "        const buttonEl =\n",
              "          document.querySelector('#df-8b1f4c69-5043-45c7-9775-612f040f0808 button.colab-df-convert');\n",
              "        buttonEl.style.display =\n",
              "          google.colab.kernel.accessAllowed ? 'block' : 'none';\n",
              "\n",
              "        async function convertToInteractive(key) {\n",
              "          const element = document.querySelector('#df-8b1f4c69-5043-45c7-9775-612f040f0808');\n",
              "          const dataTable =\n",
              "            await google.colab.kernel.invokeFunction('convertToInteractive',\n",
              "                                                     [key], {});\n",
              "          if (!dataTable) return;\n",
              "\n",
              "          const docLinkHtml = 'Like what you see? Visit the ' +\n",
              "            '<a target=\"_blank\" href=https://colab.research.google.com/notebooks/data_table.ipynb>data table notebook</a>'\n",
              "            + ' to learn more about interactive tables.';\n",
              "          element.innerHTML = '';\n",
              "          dataTable['output_type'] = 'display_data';\n",
              "          await google.colab.output.renderOutput(dataTable, element);\n",
              "          const docLink = document.createElement('div');\n",
              "          docLink.innerHTML = docLinkHtml;\n",
              "          element.appendChild(docLink);\n",
              "        }\n",
              "      </script>\n",
              "    </div>\n",
              "  </div>\n",
              "  "
            ]
          },
          "metadata": {},
          "execution_count": 32
        }
      ],
      "source": [
        "X_train"
      ]
    },
    {
      "cell_type": "code",
      "execution_count": 33,
      "id": "f073987b",
      "metadata": {
        "colab": {
          "base_uri": "https://localhost:8080/",
          "height": 424
        },
        "id": "f073987b",
        "outputId": "8c60e656-d6d1-4b15-b7a4-eb7f69edac7c"
      },
      "outputs": [
        {
          "output_type": "execute_result",
          "data": {
            "text/plain": [
              "     Pregnancies  Glucose  BloodPressure  SkinThickness  Insulin   BMI  \\\n",
              "766            1      126             60              0        0  30.1   \n",
              "748            3      187             70             22      200  36.4   \n",
              "42             7      106             92             18        0  22.7   \n",
              "485            0      135             68             42      250  42.3   \n",
              "543            4       84             90             23       56  39.5   \n",
              "..           ...      ...            ...            ...      ...   ...   \n",
              "188            8      109             76             39      114  27.9   \n",
              "8              2      197             70             45      543  30.5   \n",
              "645            2      157             74             35      440  39.4   \n",
              "381            0      105             68             22        0  20.0   \n",
              "314            7      109             80             31        0  35.9   \n",
              "\n",
              "     DiabetesPedigreeFunction  Age  \n",
              "766                     0.349   47  \n",
              "748                     0.408   36  \n",
              "42                      0.235   48  \n",
              "485                     0.365   24  \n",
              "543                     0.159   25  \n",
              "..                        ...  ...  \n",
              "188                     0.640   31  \n",
              "8                       0.158   53  \n",
              "645                     0.134   30  \n",
              "381                     0.236   22  \n",
              "314                     1.127   43  \n",
              "\n",
              "[231 rows x 8 columns]"
            ],
            "text/html": [
              "\n",
              "  <div id=\"df-f40de01f-d8f3-42cb-a8fb-47e282f5e005\">\n",
              "    <div class=\"colab-df-container\">\n",
              "      <div>\n",
              "<style scoped>\n",
              "    .dataframe tbody tr th:only-of-type {\n",
              "        vertical-align: middle;\n",
              "    }\n",
              "\n",
              "    .dataframe tbody tr th {\n",
              "        vertical-align: top;\n",
              "    }\n",
              "\n",
              "    .dataframe thead th {\n",
              "        text-align: right;\n",
              "    }\n",
              "</style>\n",
              "<table border=\"1\" class=\"dataframe\">\n",
              "  <thead>\n",
              "    <tr style=\"text-align: right;\">\n",
              "      <th></th>\n",
              "      <th>Pregnancies</th>\n",
              "      <th>Glucose</th>\n",
              "      <th>BloodPressure</th>\n",
              "      <th>SkinThickness</th>\n",
              "      <th>Insulin</th>\n",
              "      <th>BMI</th>\n",
              "      <th>DiabetesPedigreeFunction</th>\n",
              "      <th>Age</th>\n",
              "    </tr>\n",
              "  </thead>\n",
              "  <tbody>\n",
              "    <tr>\n",
              "      <th>766</th>\n",
              "      <td>1</td>\n",
              "      <td>126</td>\n",
              "      <td>60</td>\n",
              "      <td>0</td>\n",
              "      <td>0</td>\n",
              "      <td>30.1</td>\n",
              "      <td>0.349</td>\n",
              "      <td>47</td>\n",
              "    </tr>\n",
              "    <tr>\n",
              "      <th>748</th>\n",
              "      <td>3</td>\n",
              "      <td>187</td>\n",
              "      <td>70</td>\n",
              "      <td>22</td>\n",
              "      <td>200</td>\n",
              "      <td>36.4</td>\n",
              "      <td>0.408</td>\n",
              "      <td>36</td>\n",
              "    </tr>\n",
              "    <tr>\n",
              "      <th>42</th>\n",
              "      <td>7</td>\n",
              "      <td>106</td>\n",
              "      <td>92</td>\n",
              "      <td>18</td>\n",
              "      <td>0</td>\n",
              "      <td>22.7</td>\n",
              "      <td>0.235</td>\n",
              "      <td>48</td>\n",
              "    </tr>\n",
              "    <tr>\n",
              "      <th>485</th>\n",
              "      <td>0</td>\n",
              "      <td>135</td>\n",
              "      <td>68</td>\n",
              "      <td>42</td>\n",
              "      <td>250</td>\n",
              "      <td>42.3</td>\n",
              "      <td>0.365</td>\n",
              "      <td>24</td>\n",
              "    </tr>\n",
              "    <tr>\n",
              "      <th>543</th>\n",
              "      <td>4</td>\n",
              "      <td>84</td>\n",
              "      <td>90</td>\n",
              "      <td>23</td>\n",
              "      <td>56</td>\n",
              "      <td>39.5</td>\n",
              "      <td>0.159</td>\n",
              "      <td>25</td>\n",
              "    </tr>\n",
              "    <tr>\n",
              "      <th>...</th>\n",
              "      <td>...</td>\n",
              "      <td>...</td>\n",
              "      <td>...</td>\n",
              "      <td>...</td>\n",
              "      <td>...</td>\n",
              "      <td>...</td>\n",
              "      <td>...</td>\n",
              "      <td>...</td>\n",
              "    </tr>\n",
              "    <tr>\n",
              "      <th>188</th>\n",
              "      <td>8</td>\n",
              "      <td>109</td>\n",
              "      <td>76</td>\n",
              "      <td>39</td>\n",
              "      <td>114</td>\n",
              "      <td>27.9</td>\n",
              "      <td>0.640</td>\n",
              "      <td>31</td>\n",
              "    </tr>\n",
              "    <tr>\n",
              "      <th>8</th>\n",
              "      <td>2</td>\n",
              "      <td>197</td>\n",
              "      <td>70</td>\n",
              "      <td>45</td>\n",
              "      <td>543</td>\n",
              "      <td>30.5</td>\n",
              "      <td>0.158</td>\n",
              "      <td>53</td>\n",
              "    </tr>\n",
              "    <tr>\n",
              "      <th>645</th>\n",
              "      <td>2</td>\n",
              "      <td>157</td>\n",
              "      <td>74</td>\n",
              "      <td>35</td>\n",
              "      <td>440</td>\n",
              "      <td>39.4</td>\n",
              "      <td>0.134</td>\n",
              "      <td>30</td>\n",
              "    </tr>\n",
              "    <tr>\n",
              "      <th>381</th>\n",
              "      <td>0</td>\n",
              "      <td>105</td>\n",
              "      <td>68</td>\n",
              "      <td>22</td>\n",
              "      <td>0</td>\n",
              "      <td>20.0</td>\n",
              "      <td>0.236</td>\n",
              "      <td>22</td>\n",
              "    </tr>\n",
              "    <tr>\n",
              "      <th>314</th>\n",
              "      <td>7</td>\n",
              "      <td>109</td>\n",
              "      <td>80</td>\n",
              "      <td>31</td>\n",
              "      <td>0</td>\n",
              "      <td>35.9</td>\n",
              "      <td>1.127</td>\n",
              "      <td>43</td>\n",
              "    </tr>\n",
              "  </tbody>\n",
              "</table>\n",
              "<p>231 rows × 8 columns</p>\n",
              "</div>\n",
              "      <button class=\"colab-df-convert\" onclick=\"convertToInteractive('df-f40de01f-d8f3-42cb-a8fb-47e282f5e005')\"\n",
              "              title=\"Convert this dataframe to an interactive table.\"\n",
              "              style=\"display:none;\">\n",
              "        \n",
              "  <svg xmlns=\"http://www.w3.org/2000/svg\" height=\"24px\"viewBox=\"0 0 24 24\"\n",
              "       width=\"24px\">\n",
              "    <path d=\"M0 0h24v24H0V0z\" fill=\"none\"/>\n",
              "    <path d=\"M18.56 5.44l.94 2.06.94-2.06 2.06-.94-2.06-.94-.94-2.06-.94 2.06-2.06.94zm-11 1L8.5 8.5l.94-2.06 2.06-.94-2.06-.94L8.5 2.5l-.94 2.06-2.06.94zm10 10l.94 2.06.94-2.06 2.06-.94-2.06-.94-.94-2.06-.94 2.06-2.06.94z\"/><path d=\"M17.41 7.96l-1.37-1.37c-.4-.4-.92-.59-1.43-.59-.52 0-1.04.2-1.43.59L10.3 9.45l-7.72 7.72c-.78.78-.78 2.05 0 2.83L4 21.41c.39.39.9.59 1.41.59.51 0 1.02-.2 1.41-.59l7.78-7.78 2.81-2.81c.8-.78.8-2.07 0-2.86zM5.41 20L4 18.59l7.72-7.72 1.47 1.35L5.41 20z\"/>\n",
              "  </svg>\n",
              "      </button>\n",
              "      \n",
              "  <style>\n",
              "    .colab-df-container {\n",
              "      display:flex;\n",
              "      flex-wrap:wrap;\n",
              "      gap: 12px;\n",
              "    }\n",
              "\n",
              "    .colab-df-convert {\n",
              "      background-color: #E8F0FE;\n",
              "      border: none;\n",
              "      border-radius: 50%;\n",
              "      cursor: pointer;\n",
              "      display: none;\n",
              "      fill: #1967D2;\n",
              "      height: 32px;\n",
              "      padding: 0 0 0 0;\n",
              "      width: 32px;\n",
              "    }\n",
              "\n",
              "    .colab-df-convert:hover {\n",
              "      background-color: #E2EBFA;\n",
              "      box-shadow: 0px 1px 2px rgba(60, 64, 67, 0.3), 0px 1px 3px 1px rgba(60, 64, 67, 0.15);\n",
              "      fill: #174EA6;\n",
              "    }\n",
              "\n",
              "    [theme=dark] .colab-df-convert {\n",
              "      background-color: #3B4455;\n",
              "      fill: #D2E3FC;\n",
              "    }\n",
              "\n",
              "    [theme=dark] .colab-df-convert:hover {\n",
              "      background-color: #434B5C;\n",
              "      box-shadow: 0px 1px 3px 1px rgba(0, 0, 0, 0.15);\n",
              "      filter: drop-shadow(0px 1px 2px rgba(0, 0, 0, 0.3));\n",
              "      fill: #FFFFFF;\n",
              "    }\n",
              "  </style>\n",
              "\n",
              "      <script>\n",
              "        const buttonEl =\n",
              "          document.querySelector('#df-f40de01f-d8f3-42cb-a8fb-47e282f5e005 button.colab-df-convert');\n",
              "        buttonEl.style.display =\n",
              "          google.colab.kernel.accessAllowed ? 'block' : 'none';\n",
              "\n",
              "        async function convertToInteractive(key) {\n",
              "          const element = document.querySelector('#df-f40de01f-d8f3-42cb-a8fb-47e282f5e005');\n",
              "          const dataTable =\n",
              "            await google.colab.kernel.invokeFunction('convertToInteractive',\n",
              "                                                     [key], {});\n",
              "          if (!dataTable) return;\n",
              "\n",
              "          const docLinkHtml = 'Like what you see? Visit the ' +\n",
              "            '<a target=\"_blank\" href=https://colab.research.google.com/notebooks/data_table.ipynb>data table notebook</a>'\n",
              "            + ' to learn more about interactive tables.';\n",
              "          element.innerHTML = '';\n",
              "          dataTable['output_type'] = 'display_data';\n",
              "          await google.colab.output.renderOutput(dataTable, element);\n",
              "          const docLink = document.createElement('div');\n",
              "          docLink.innerHTML = docLinkHtml;\n",
              "          element.appendChild(docLink);\n",
              "        }\n",
              "      </script>\n",
              "    </div>\n",
              "  </div>\n",
              "  "
            ]
          },
          "metadata": {},
          "execution_count": 33
        }
      ],
      "source": [
        "X_test"
      ]
    },
    {
      "cell_type": "code",
      "execution_count": 34,
      "id": "467b3162",
      "metadata": {
        "colab": {
          "base_uri": "https://localhost:8080/"
        },
        "id": "467b3162",
        "outputId": "cab9876e-6045-462f-f302-03618ca12a04"
      },
      "outputs": [
        {
          "output_type": "execute_result",
          "data": {
            "text/plain": [
              "711    0\n",
              "58     0\n",
              "216    1\n",
              "168    0\n",
              "658    0\n",
              "      ..\n",
              "75     0\n",
              "599    0\n",
              "575    0\n",
              "337    1\n",
              "523    1\n",
              "Name: Outcome, Length: 537, dtype: int64"
            ]
          },
          "metadata": {},
          "execution_count": 34
        }
      ],
      "source": [
        "Y_train"
      ]
    },
    {
      "cell_type": "code",
      "execution_count": 35,
      "id": "f05b87e6",
      "metadata": {
        "colab": {
          "base_uri": "https://localhost:8080/"
        },
        "id": "f05b87e6",
        "outputId": "1aba6ab9-75bb-420b-c46f-aac1a5719f5f"
      },
      "outputs": [
        {
          "output_type": "execute_result",
          "data": {
            "text/plain": [
              "766    1\n",
              "748    1\n",
              "42     0\n",
              "485    1\n",
              "543    0\n",
              "      ..\n",
              "188    1\n",
              "8      1\n",
              "645    0\n",
              "381    0\n",
              "314    1\n",
              "Name: Outcome, Length: 231, dtype: int64"
            ]
          },
          "metadata": {},
          "execution_count": 35
        }
      ],
      "source": [
        "Y_test"
      ]
    },
    {
      "cell_type": "code",
      "execution_count": 36,
      "id": "26f04439",
      "metadata": {
        "id": "26f04439"
      },
      "outputs": [],
      "source": [
        "from sklearn.linear_model import LogisticRegression"
      ]
    },
    {
      "cell_type": "code",
      "execution_count": 37,
      "id": "25a32d97",
      "metadata": {
        "id": "25a32d97"
      },
      "outputs": [],
      "source": [
        "LR = LogisticRegression(solver='lbfgs', max_iter = 1300)"
      ]
    },
    {
      "cell_type": "code",
      "execution_count": 38,
      "id": "4e11e360",
      "metadata": {
        "id": "4e11e360"
      },
      "outputs": [],
      "source": [
        "LR_Fit = LR.fit(X_train, Y_train)"
      ]
    },
    {
      "cell_type": "code",
      "execution_count": 39,
      "id": "8d4ddc99",
      "metadata": {
        "id": "8d4ddc99"
      },
      "outputs": [],
      "source": [
        "Predict = LR.predict(X_test)"
      ]
    },
    {
      "cell_type": "code",
      "execution_count": 41,
      "id": "8e6443f8",
      "metadata": {
        "id": "8e6443f8"
      },
      "outputs": [],
      "source": [
        "from sklearn import metrics\n",
        "LR_Out = metrics.accuracy_score(Y_test, Predict)"
      ]
    },
    {
      "cell_type": "code",
      "execution_count": 42,
      "id": "2ebdc2f0",
      "metadata": {
        "colab": {
          "base_uri": "https://localhost:8080/"
        },
        "id": "2ebdc2f0",
        "outputId": "70035cfa-6cd2-4ecb-ab77-7ef8897ba0d7"
      },
      "outputs": [
        {
          "output_type": "stream",
          "name": "stdout",
          "text": [
            "78.355\n"
          ]
        }
      ],
      "source": [
        "print(round((LR_Out*100),3))"
      ]
    },
    {
      "cell_type": "markdown",
      "id": "1782b127",
      "metadata": {
        "id": "1782b127"
      },
      "source": [
        "# Random Classifier"
      ]
    },
    {
      "cell_type": "code",
      "execution_count": 43,
      "id": "74809397",
      "metadata": {
        "id": "74809397"
      },
      "outputs": [],
      "source": [
        "from sklearn.ensemble import RandomForestClassifier"
      ]
    },
    {
      "cell_type": "code",
      "execution_count": 44,
      "id": "ad3322e0",
      "metadata": {
        "id": "ad3322e0"
      },
      "outputs": [],
      "source": [
        "RCF = RandomForestClassifier()"
      ]
    },
    {
      "cell_type": "code",
      "execution_count": 45,
      "id": "0b11e6bf",
      "metadata": {
        "id": "0b11e6bf"
      },
      "outputs": [],
      "source": [
        "RC = RCF.fit(X_train, Y_train)"
      ]
    },
    {
      "cell_type": "code",
      "execution_count": 46,
      "id": "d35060fc",
      "metadata": {
        "id": "d35060fc"
      },
      "outputs": [],
      "source": [
        "RC_Prediction = RC.predict(X_test)"
      ]
    },
    {
      "cell_type": "code",
      "execution_count": 47,
      "id": "3527d68f",
      "metadata": {
        "colab": {
          "base_uri": "https://localhost:8080/"
        },
        "id": "3527d68f",
        "outputId": "4c511a06-1d4f-400b-8af8-f2d2ebbd4543"
      },
      "outputs": [
        {
          "output_type": "execute_result",
          "data": {
            "text/plain": [
              "array([1, 1, 0, 0, 0, 1, 1, 0, 0, 0, 0, 0, 0, 0, 0, 1, 1, 0, 1, 0, 0, 0,\n",
              "       1, 0, 0, 1, 0, 1, 0, 1, 1, 0, 0, 1, 0, 0, 0, 1, 1, 0, 0, 1, 0, 1,\n",
              "       0, 0, 0, 0, 1, 0, 0, 0, 0, 0, 0, 0, 0, 0, 1, 0, 0, 1, 1, 0, 0, 1,\n",
              "       0, 0, 0, 0, 1, 0, 0, 0, 1, 1, 0, 0, 0, 1, 1, 0, 1, 1, 1, 0, 0, 0,\n",
              "       1, 1, 1, 0, 0, 0, 0, 0, 0, 0, 1, 1, 0, 0, 0, 0, 0, 0, 0, 0, 0, 0,\n",
              "       1, 0, 0, 0, 1, 1, 0, 0, 0, 0, 0, 0, 0, 1, 1, 1, 0, 0, 0, 0, 0, 1,\n",
              "       0, 0, 0, 0, 0, 0, 0, 0, 0, 1, 0, 1, 0, 0, 0, 0, 1, 1, 0, 1, 0, 0,\n",
              "       0, 1, 0, 0, 0, 1, 0, 0, 0, 1, 0, 1, 0, 1, 1, 0, 0, 1, 0, 1, 0, 0,\n",
              "       0, 0, 1, 0, 1, 1, 1, 1, 0, 0, 0, 0, 1, 1, 1, 0, 0, 0, 0, 0, 0, 0,\n",
              "       0, 0, 0, 0, 1, 0, 0, 0, 1, 1, 1, 0, 0, 1, 0, 0, 0, 0, 0, 0, 0, 0,\n",
              "       0, 0, 1, 0, 0, 1, 0, 1, 1, 0, 1])"
            ]
          },
          "metadata": {},
          "execution_count": 47
        }
      ],
      "source": [
        "RC_Prediction"
      ]
    },
    {
      "cell_type": "markdown",
      "id": "c2a74bad",
      "metadata": {
        "id": "c2a74bad"
      },
      "source": [
        "# Validation method we use these metrics for every algorithm"
      ]
    },
    {
      "cell_type": "code",
      "execution_count": 48,
      "id": "24c5c757",
      "metadata": {
        "id": "24c5c757"
      },
      "outputs": [],
      "source": [
        "from sklearn.metrics import classification_report, confusion_matrix"
      ]
    },
    {
      "cell_type": "code",
      "execution_count": 49,
      "id": "3c9d5d07",
      "metadata": {
        "id": "3c9d5d07"
      },
      "outputs": [],
      "source": [
        "from sklearn import metrics"
      ]
    },
    {
      "cell_type": "code",
      "execution_count": 50,
      "id": "4127bc99",
      "metadata": {
        "colab": {
          "base_uri": "https://localhost:8080/"
        },
        "id": "4127bc99",
        "outputId": "a1d9cdd6-4fa2-4f1d-aded-1a61e06b2c09"
      },
      "outputs": [
        {
          "output_type": "stream",
          "name": "stdout",
          "text": [
            "              precision    recall  f1-score   support\n",
            "\n",
            "           0       0.80      0.85      0.82       150\n",
            "           1       0.68      0.62      0.65        81\n",
            "\n",
            "    accuracy                           0.77       231\n",
            "   macro avg       0.74      0.73      0.74       231\n",
            "weighted avg       0.76      0.77      0.76       231\n",
            "\n"
          ]
        }
      ],
      "source": [
        "print(classification_report(Y_test, RC_Prediction))"
      ]
    },
    {
      "cell_type": "code",
      "execution_count": 51,
      "id": "d4836ca1",
      "metadata": {
        "colab": {
          "base_uri": "https://localhost:8080/"
        },
        "id": "d4836ca1",
        "outputId": "7866d4a1-b7ae-4432-b616-7d257947f588"
      },
      "outputs": [
        {
          "output_type": "stream",
          "name": "stdout",
          "text": [
            "76.62337662337663 %\n"
          ]
        }
      ],
      "source": [
        "RC_Out = metrics.accuracy_score(Y_test, RC_Prediction)\n",
        "\n",
        "print(RC_Out*100,\"%\")"
      ]
    },
    {
      "cell_type": "markdown",
      "id": "becd6f7b",
      "metadata": {
        "id": "becd6f7b"
      },
      "source": [
        "# Decision Tree"
      ]
    },
    {
      "cell_type": "code",
      "execution_count": 52,
      "id": "cf6ba418",
      "metadata": {
        "id": "cf6ba418"
      },
      "outputs": [],
      "source": [
        "from sklearn.tree import DecisionTreeClassifier"
      ]
    },
    {
      "cell_type": "code",
      "execution_count": 53,
      "id": "ddfcc117",
      "metadata": {
        "id": "ddfcc117"
      },
      "outputs": [],
      "source": [
        "DTC = DecisionTreeClassifier()"
      ]
    },
    {
      "cell_type": "code",
      "execution_count": 54,
      "id": "a2248d87",
      "metadata": {
        "id": "a2248d87"
      },
      "outputs": [],
      "source": [
        "DTC_Fit = DTC.fit(X_train,Y_train)"
      ]
    },
    {
      "cell_type": "code",
      "execution_count": 55,
      "id": "3da787a9",
      "metadata": {
        "id": "3da787a9"
      },
      "outputs": [],
      "source": [
        "DTC_Predict = DTC.predict(X_test)"
      ]
    },
    {
      "cell_type": "code",
      "execution_count": 56,
      "id": "12abc4c6",
      "metadata": {
        "colab": {
          "base_uri": "https://localhost:8080/"
        },
        "id": "12abc4c6",
        "outputId": "17553f40-a97e-4d5a-882f-ed8cf09a6a0f"
      },
      "outputs": [
        {
          "output_type": "execute_result",
          "data": {
            "text/plain": [
              "array([1, 1, 0, 0, 0, 1, 1, 0, 1, 1, 0, 0, 0, 0, 0, 1, 1, 0, 1, 0, 0, 1,\n",
              "       1, 1, 0, 1, 0, 1, 0, 0, 1, 1, 0, 1, 0, 0, 1, 1, 1, 0, 0, 0, 0, 1,\n",
              "       0, 0, 0, 1, 0, 0, 0, 1, 0, 0, 0, 0, 0, 0, 1, 0, 0, 1, 1, 0, 0, 0,\n",
              "       0, 0, 0, 0, 1, 0, 1, 0, 0, 1, 0, 1, 0, 1, 0, 0, 0, 1, 1, 0, 0, 0,\n",
              "       1, 1, 1, 1, 0, 0, 0, 1, 0, 0, 1, 1, 1, 0, 0, 0, 0, 0, 0, 0, 0, 0,\n",
              "       1, 0, 0, 0, 1, 1, 0, 1, 0, 1, 1, 0, 0, 1, 0, 1, 1, 1, 1, 0, 0, 1,\n",
              "       1, 1, 0, 0, 0, 0, 0, 0, 0, 1, 0, 1, 1, 0, 1, 0, 1, 0, 0, 0, 0, 1,\n",
              "       0, 1, 0, 1, 0, 0, 0, 0, 0, 0, 0, 1, 0, 1, 0, 0, 0, 1, 0, 0, 0, 0,\n",
              "       0, 0, 1, 0, 1, 1, 0, 1, 0, 0, 0, 0, 1, 1, 1, 0, 0, 0, 0, 0, 0, 0,\n",
              "       0, 0, 1, 0, 1, 0, 0, 1, 1, 1, 1, 1, 0, 1, 0, 0, 0, 1, 0, 0, 0, 0,\n",
              "       0, 0, 1, 0, 0, 0, 0, 1, 1, 0, 0])"
            ]
          },
          "metadata": {},
          "execution_count": 56
        }
      ],
      "source": [
        "DTC_Predict"
      ]
    },
    {
      "cell_type": "code",
      "execution_count": 57,
      "id": "b96bc348",
      "metadata": {
        "id": "b96bc348"
      },
      "outputs": [],
      "source": [
        "from sklearn import metrics"
      ]
    },
    {
      "cell_type": "code",
      "execution_count": 58,
      "id": "2094f4e3",
      "metadata": {
        "colab": {
          "base_uri": "https://localhost:8080/"
        },
        "id": "2094f4e3",
        "outputId": "0374e4b2-fecc-4bf8-faf7-0c3db8678731"
      },
      "outputs": [
        {
          "output_type": "stream",
          "name": "stdout",
          "text": [
            "71.42857142857143 %\n"
          ]
        }
      ],
      "source": [
        "DC_Out = metrics.accuracy_score(Y_test, DTC_Predict)\n",
        "print(DC_Out*100,\"%\")"
      ]
    },
    {
      "cell_type": "code",
      "execution_count": 59,
      "id": "3c408f68",
      "metadata": {
        "colab": {
          "base_uri": "https://localhost:8080/"
        },
        "id": "3c408f68",
        "outputId": "d1940a4a-da55-4af7-e395-8e4da9292f75"
      },
      "outputs": [
        {
          "output_type": "stream",
          "name": "stdout",
          "text": [
            "              precision    recall  f1-score   support\n",
            "\n",
            "           0       0.79      0.77      0.78       150\n",
            "           1       0.59      0.62      0.60        81\n",
            "\n",
            "    accuracy                           0.71       231\n",
            "   macro avg       0.69      0.69      0.69       231\n",
            "weighted avg       0.72      0.71      0.72       231\n",
            "\n"
          ]
        }
      ],
      "source": [
        "print(classification_report(Y_test, DTC_Predict))"
      ]
    },
    {
      "cell_type": "code",
      "execution_count": 60,
      "id": "c95faebb",
      "metadata": {
        "colab": {
          "base_uri": "https://localhost:8080/"
        },
        "id": "c95faebb",
        "outputId": "d02aef11-9190-4ebe-c8ec-a782029a850e"
      },
      "outputs": [
        {
          "output_type": "execute_result",
          "data": {
            "text/plain": [
              "0.5882352941176471"
            ]
          },
          "metadata": {},
          "execution_count": 60
        }
      ],
      "source": [
        "metrics.precision_score(Y_test, DTC_Predict)"
      ]
    },
    {
      "cell_type": "code",
      "execution_count": 61,
      "id": "b2735fc3",
      "metadata": {
        "colab": {
          "base_uri": "https://localhost:8080/"
        },
        "id": "b2735fc3",
        "outputId": "24b636ac-094e-40d8-8b04-b58bc8c585fc"
      },
      "outputs": [
        {
          "output_type": "execute_result",
          "data": {
            "text/plain": [
              "0.6172839506172839"
            ]
          },
          "metadata": {},
          "execution_count": 61
        }
      ],
      "source": [
        "metrics.recall_score(Y_test, DTC_Predict)"
      ]
    },
    {
      "cell_type": "code",
      "execution_count": 62,
      "id": "3d36777c",
      "metadata": {
        "colab": {
          "base_uri": "https://localhost:8080/"
        },
        "id": "3d36777c",
        "outputId": "e9653bfe-7cac-4b0a-8c43-67a05b31eece"
      },
      "outputs": [
        {
          "output_type": "execute_result",
          "data": {
            "text/plain": [
              "0.6024096385542168"
            ]
          },
          "metadata": {},
          "execution_count": 62
        }
      ],
      "source": [
        "metrics.f1_score(Y_test, DTC_Predict)"
      ]
    },
    {
      "cell_type": "markdown",
      "id": "874ad6d2",
      "metadata": {
        "id": "874ad6d2"
      },
      "source": [
        "# Support Vector Machine"
      ]
    },
    {
      "cell_type": "code",
      "execution_count": 63,
      "id": "3e845eb8",
      "metadata": {
        "id": "3e845eb8"
      },
      "outputs": [],
      "source": [
        "from sklearn.svm import LinearSVC"
      ]
    },
    {
      "cell_type": "code",
      "execution_count": 64,
      "id": "2f9738e2",
      "metadata": {
        "id": "2f9738e2"
      },
      "outputs": [],
      "source": [
        "SVM = LinearSVC(random_state=0)"
      ]
    },
    {
      "cell_type": "code",
      "execution_count": 65,
      "id": "6fa23248",
      "metadata": {
        "colab": {
          "base_uri": "https://localhost:8080/"
        },
        "id": "6fa23248",
        "outputId": "48f5efbb-f659-48c6-99da-67545fd33c65"
      },
      "outputs": [
        {
          "output_type": "stream",
          "name": "stderr",
          "text": [
            "/usr/local/lib/python3.7/dist-packages/sklearn/svm/_base.py:1208: ConvergenceWarning: Liblinear failed to converge, increase the number of iterations.\n",
            "  ConvergenceWarning,\n"
          ]
        }
      ],
      "source": [
        "SVM_Fit = SVM.fit(X_train, Y_train)"
      ]
    },
    {
      "cell_type": "code",
      "execution_count": 66,
      "id": "ef4eb032",
      "metadata": {
        "id": "ef4eb032"
      },
      "outputs": [],
      "source": [
        "SVM_Predict = SVM.predict(X_test)"
      ]
    },
    {
      "cell_type": "code",
      "execution_count": 67,
      "id": "f34d8199",
      "metadata": {
        "colab": {
          "base_uri": "https://localhost:8080/"
        },
        "id": "f34d8199",
        "outputId": "f504faeb-ead7-4cc3-c46a-25b0b5fbb049"
      },
      "outputs": [
        {
          "output_type": "execute_result",
          "data": {
            "text/plain": [
              "array([0, 0, 0, 0, 0, 1, 0, 0, 0, 0, 0, 0, 0, 0, 0, 0, 0, 0, 0, 0, 0, 0,\n",
              "       0, 0, 0, 0, 0, 0, 0, 0, 0, 0, 0, 1, 0, 0, 0, 0, 0, 0, 0, 0, 0, 0,\n",
              "       0, 0, 0, 0, 0, 0, 0, 0, 0, 0, 0, 0, 1, 0, 0, 0, 0, 1, 0, 0, 0, 0,\n",
              "       0, 0, 0, 0, 0, 0, 0, 0, 0, 0, 0, 0, 0, 0, 0, 0, 0, 0, 0, 0, 0, 0,\n",
              "       0, 0, 0, 0, 0, 0, 0, 0, 0, 0, 0, 1, 0, 0, 0, 0, 0, 0, 0, 1, 0, 0,\n",
              "       0, 0, 0, 0, 1, 0, 0, 0, 0, 0, 0, 0, 0, 0, 0, 0, 0, 1, 0, 0, 0, 0,\n",
              "       0, 0, 0, 0, 0, 0, 0, 0, 0, 0, 1, 0, 0, 0, 0, 0, 0, 0, 1, 0, 1, 0,\n",
              "       0, 0, 0, 0, 0, 0, 0, 0, 0, 0, 0, 0, 0, 1, 0, 0, 0, 0, 0, 1, 0, 0,\n",
              "       0, 0, 0, 0, 0, 0, 1, 0, 0, 0, 0, 0, 0, 0, 0, 0, 0, 1, 0, 0, 0, 0,\n",
              "       0, 0, 0, 0, 0, 0, 0, 1, 0, 0, 0, 0, 0, 0, 0, 0, 0, 0, 0, 0, 0, 0,\n",
              "       0, 0, 0, 0, 0, 0, 0, 0, 0, 0, 1])"
            ]
          },
          "metadata": {},
          "execution_count": 67
        }
      ],
      "source": [
        "SVM_Predict"
      ]
    },
    {
      "cell_type": "code",
      "execution_count": 68,
      "id": "2cdbf33b",
      "metadata": {
        "id": "2cdbf33b"
      },
      "outputs": [],
      "source": [
        "from sklearn import metrics"
      ]
    },
    {
      "cell_type": "code",
      "execution_count": 69,
      "id": "e6eb251a",
      "metadata": {
        "colab": {
          "base_uri": "https://localhost:8080/"
        },
        "id": "e6eb251a",
        "outputId": "d619a1b9-c645-42a3-ae1b-ba31cdcd09df"
      },
      "outputs": [
        {
          "output_type": "stream",
          "name": "stdout",
          "text": [
            "65.36796536796537 %\n"
          ]
        }
      ],
      "source": [
        "SVM_Out = metrics.accuracy_score(Y_test, SVM_Predict)\n",
        "print(SVM_Out*100,\"%\")"
      ]
    },
    {
      "cell_type": "code",
      "execution_count": 70,
      "id": "de84232f",
      "metadata": {
        "colab": {
          "base_uri": "https://localhost:8080/"
        },
        "id": "de84232f",
        "outputId": "bbad87a8-ed09-4a5a-895b-f8557ada2195"
      },
      "outputs": [
        {
          "output_type": "stream",
          "name": "stdout",
          "text": [
            "              precision    recall  f1-score   support\n",
            "\n",
            "           0       0.66      0.95      0.78       150\n",
            "           1       0.53      0.11      0.18        81\n",
            "\n",
            "    accuracy                           0.65       231\n",
            "   macro avg       0.60      0.53      0.48       231\n",
            "weighted avg       0.62      0.65      0.57       231\n",
            "\n"
          ]
        }
      ],
      "source": [
        "print(classification_report(Y_test, SVM_Predict))"
      ]
    },
    {
      "cell_type": "markdown",
      "id": "4cdebcb8",
      "metadata": {
        "id": "4cdebcb8"
      },
      "source": [
        "# K-NN"
      ]
    },
    {
      "cell_type": "code",
      "execution_count": 71,
      "id": "4703d5f7",
      "metadata": {
        "id": "4703d5f7"
      },
      "outputs": [],
      "source": [
        "from sklearn.neighbors import KNeighborsClassifier"
      ]
    },
    {
      "cell_type": "code",
      "execution_count": 72,
      "id": "b8541b18",
      "metadata": {
        "id": "b8541b18"
      },
      "outputs": [],
      "source": [
        "KNN = KNeighborsClassifier(n_neighbors = 9)"
      ]
    },
    {
      "cell_type": "code",
      "execution_count": 73,
      "id": "136e1d90",
      "metadata": {
        "id": "136e1d90"
      },
      "outputs": [],
      "source": [
        "KNN_Fit = KNN.fit(X_train, Y_train)"
      ]
    },
    {
      "cell_type": "code",
      "execution_count": 74,
      "id": "e5b904f7",
      "metadata": {
        "id": "e5b904f7"
      },
      "outputs": [],
      "source": [
        "KNN_Predict = KNN.predict(X_test)"
      ]
    },
    {
      "cell_type": "code",
      "execution_count": 75,
      "id": "e107f0c1",
      "metadata": {
        "colab": {
          "base_uri": "https://localhost:8080/"
        },
        "id": "e107f0c1",
        "outputId": "f56ac346-b7b3-499f-b7c6-c2e89fe48caa"
      },
      "outputs": [
        {
          "output_type": "stream",
          "name": "stdout",
          "text": [
            "75.32467532467533 %\n"
          ]
        }
      ],
      "source": [
        "KNN_Out = metrics.accuracy_score(Y_test, KNN_Predict)\n",
        "print(KNN_Out*100,\"%\")"
      ]
    },
    {
      "cell_type": "code",
      "execution_count": 76,
      "id": "09724383",
      "metadata": {
        "colab": {
          "base_uri": "https://localhost:8080/"
        },
        "id": "09724383",
        "outputId": "c2b055a2-5252-4b2b-b45a-3700673d4b67"
      },
      "outputs": [
        {
          "output_type": "stream",
          "name": "stdout",
          "text": [
            "              precision    recall  f1-score   support\n",
            "\n",
            "           0       0.79      0.84      0.82       150\n",
            "           1       0.67      0.59      0.63        81\n",
            "\n",
            "    accuracy                           0.75       231\n",
            "   macro avg       0.73      0.72      0.72       231\n",
            "weighted avg       0.75      0.75      0.75       231\n",
            "\n"
          ]
        }
      ],
      "source": [
        "print(classification_report(Y_test, KNN_Predict))"
      ]
    },
    {
      "cell_type": "markdown",
      "id": "88b3a0f4",
      "metadata": {
        "id": "88b3a0f4"
      },
      "source": [
        "# Naive Bayes"
      ]
    },
    {
      "cell_type": "code",
      "execution_count": 77,
      "id": "53fc4868",
      "metadata": {
        "id": "53fc4868"
      },
      "outputs": [],
      "source": [
        "from sklearn.naive_bayes import GaussianNB"
      ]
    },
    {
      "cell_type": "code",
      "execution_count": 78,
      "id": "061effcc",
      "metadata": {
        "id": "061effcc"
      },
      "outputs": [],
      "source": [
        "NB = GaussianNB()"
      ]
    },
    {
      "cell_type": "code",
      "execution_count": 79,
      "id": "c6654bf6",
      "metadata": {
        "id": "c6654bf6"
      },
      "outputs": [],
      "source": [
        "NB_Fit = NB.fit(X_train, Y_train)"
      ]
    },
    {
      "cell_type": "code",
      "execution_count": 80,
      "id": "edc2a6cf",
      "metadata": {
        "id": "edc2a6cf"
      },
      "outputs": [],
      "source": [
        "NB_Predict = NB.predict(X_test)"
      ]
    },
    {
      "cell_type": "code",
      "execution_count": 81,
      "id": "438a92f8",
      "metadata": {
        "colab": {
          "base_uri": "https://localhost:8080/"
        },
        "id": "438a92f8",
        "outputId": "90d64c4d-5389-4a7e-ecc7-cd5cba1c987f"
      },
      "outputs": [
        {
          "output_type": "stream",
          "name": "stdout",
          "text": [
            "76.19047619047619 %\n"
          ]
        }
      ],
      "source": [
        "NB_Out = metrics.accuracy_score(Y_test, NB_Predict)\n",
        "print(NB_Out*100,\"%\")"
      ]
    },
    {
      "cell_type": "code",
      "execution_count": 82,
      "id": "c8bb1dde",
      "metadata": {
        "colab": {
          "base_uri": "https://localhost:8080/"
        },
        "id": "c8bb1dde",
        "outputId": "4ae6287f-d061-4b33-f0e7-a8216114f2b7"
      },
      "outputs": [
        {
          "output_type": "stream",
          "name": "stdout",
          "text": [
            "              precision    recall  f1-score   support\n",
            "\n",
            "           0       0.81      0.83      0.82       150\n",
            "           1       0.67      0.64      0.65        81\n",
            "\n",
            "    accuracy                           0.76       231\n",
            "   macro avg       0.74      0.73      0.74       231\n",
            "weighted avg       0.76      0.76      0.76       231\n",
            "\n"
          ]
        }
      ],
      "source": [
        "print(classification_report(Y_test, NB_Predict))"
      ]
    },
    {
      "cell_type": "markdown",
      "id": "4a8a437f",
      "metadata": {
        "id": "4a8a437f"
      },
      "source": [
        "# Print Final Result"
      ]
    },
    {
      "cell_type": "code",
      "execution_count": 83,
      "id": "a7c8cfc5",
      "metadata": {
        "id": "a7c8cfc5"
      },
      "outputs": [],
      "source": [
        "Final_Out = [RC_Out, LR_Out, DC_Out,SVM_Out, NB_Out, KNN_Out]"
      ]
    },
    {
      "cell_type": "code",
      "execution_count": 84,
      "id": "d092e499",
      "metadata": {
        "id": "d092e499"
      },
      "outputs": [],
      "source": [
        "import numpy as np\n",
        "Value = np.amax(Final_Out)"
      ]
    },
    {
      "cell_type": "code",
      "execution_count": 85,
      "id": "839488fd",
      "metadata": {
        "colab": {
          "base_uri": "https://localhost:8080/"
        },
        "id": "839488fd",
        "outputId": "e01304bd-96a9-4694-c8f7-19c912279c67"
      },
      "outputs": [
        {
          "output_type": "execute_result",
          "data": {
            "text/plain": [
              "[0.7662337662337663,\n",
              " 0.7835497835497836,\n",
              " 0.7142857142857143,\n",
              " 0.6536796536796536,\n",
              " 0.7619047619047619,\n",
              " 0.7532467532467533]"
            ]
          },
          "metadata": {},
          "execution_count": 85
        }
      ],
      "source": [
        "Final_Out"
      ]
    },
    {
      "cell_type": "code",
      "execution_count": 86,
      "id": "77e35eb8",
      "metadata": {
        "colab": {
          "base_uri": "https://localhost:8080/"
        },
        "id": "77e35eb8",
        "outputId": "8f3d6623-eff1-445e-c6fb-59708cef65cc"
      },
      "outputs": [
        {
          "output_type": "execute_result",
          "data": {
            "text/plain": [
              "RC_Out     0.766234\n",
              "LR_Out     0.783550\n",
              "DC_Out     0.714286\n",
              "SVM_Out    0.653680\n",
              "NB_Out     0.761905\n",
              "KNN_Out    0.753247\n",
              "dtype: float64"
            ]
          },
          "metadata": {},
          "execution_count": 86
        }
      ],
      "source": [
        "pd.Series(data=Final_Out, index=['RC_Out', 'LR_Out', 'DC_Out','SVM_Out', 'NB_Out', 'KNN_Out'])"
      ]
    },
    {
      "cell_type": "code",
      "execution_count": 93,
      "id": "e8390843",
      "metadata": {
        "colab": {
          "base_uri": "https://localhost:8080/"
        },
        "id": "e8390843",
        "outputId": "d65b24ad-12cf-4482-c71f-8db9772a7187"
      },
      "outputs": [
        {
          "output_type": "stream",
          "name": "stdout",
          "text": [
            "1\n"
          ]
        }
      ],
      "source": [
        "Out = Final_Out.index(max(Final_Out))\n",
        "print(Out)"
      ]
    },
    {
      "cell_type": "code",
      "execution_count": 88,
      "id": "519b1fed",
      "metadata": {
        "colab": {
          "base_uri": "https://localhost:8080/"
        },
        "id": "519b1fed",
        "outputId": "4538a074-0e9a-4579-c88b-9faaf05e99ad"
      },
      "outputs": [
        {
          "output_type": "stream",
          "name": "stdout",
          "text": [
            "Logistic Regression is best with 78.355 % accuracy.\n"
          ]
        }
      ],
      "source": [
        "precise = 3\n",
        "\n",
        "if (Out == 0):\n",
        "    print(\"Random Classifier is best with\", round((RC_Out*100),precise),\"% accuracy.\")\n",
        "\n",
        "elif (Out == 1):\n",
        "    print(\"Logistic Regression is best with\", round((LR_Out*100),precise),\"% accuracy.\")\n",
        "\n",
        "elif (Out == 2):\n",
        "    print(\"Decision Tree is best with\", round((DC_Out*100),precise),\"% accuracy.\")\n",
        "\n",
        "elif (Out == 3):\n",
        "    print(\"SVM is best with\", round((SVM_Out*100),precise),\"% accuracy.\")\n",
        "\n",
        "elif (Out == 4):\n",
        "    print(\"Naive bias is Best with\", round((NB_Out*100),precise),\"% accuracy.\")\n",
        "\n",
        "else:\n",
        "    print(\"KNN is best with\", round((KNN_Out*100),precise),\"% accuracy.\")"
      ]
    },
    {
      "cell_type": "code",
      "execution_count": 89,
      "id": "b50e2643",
      "metadata": {
        "colab": {
          "base_uri": "https://localhost:8080/"
        },
        "id": "b50e2643",
        "outputId": "b56972b1-0687-4588-91be-eb3651a6cda8"
      },
      "outputs": [
        {
          "output_type": "execute_result",
          "data": {
            "text/plain": [
              "[0.7662337662337663,\n",
              " 0.7835497835497836,\n",
              " 0.7142857142857143,\n",
              " 0.6536796536796536,\n",
              " 0.7619047619047619,\n",
              " 0.7532467532467533]"
            ]
          },
          "metadata": {},
          "execution_count": 89
        }
      ],
      "source": [
        "Final_Out"
      ]
    },
    {
      "cell_type": "code",
      "execution_count": 102,
      "id": "f503a21c",
      "metadata": {
        "colab": {
          "base_uri": "https://localhost:8080/"
        },
        "id": "f503a21c",
        "outputId": "19375498-3c64-4a72-abbc-468e5c0cd27c"
      },
      "outputs": [
        {
          "output_type": "execute_result",
          "data": {
            "text/plain": [
              "0.7835497835497836"
            ]
          },
          "metadata": {},
          "execution_count": 102
        }
      ],
      "source": [
        "np.amax(Final_Out)"
      ]
    },
    {
      "cell_type": "code",
      "execution_count": 91,
      "id": "846a3c93",
      "metadata": {
        "colab": {
          "base_uri": "https://localhost:8080/"
        },
        "id": "846a3c93",
        "outputId": "09a22d6a-d241-4145-aa89-c37fca4e1d52"
      },
      "outputs": [
        {
          "output_type": "execute_result",
          "data": {
            "text/plain": [
              "1"
            ]
          },
          "metadata": {},
          "execution_count": 91
        }
      ],
      "source": [
        "Final_Out.index(np.amax(Final_Out))"
      ]
    },
    {
      "cell_type": "code",
      "execution_count": 97,
      "id": "d3715afe",
      "metadata": {
        "id": "d3715afe"
      },
      "outputs": [],
      "source": [
        "#So, in 1st position max value is present in Final_Out array"
      ]
    },
    {
      "cell_type": "code",
      "execution_count": 98,
      "id": "732b3847",
      "metadata": {
        "colab": {
          "base_uri": "https://localhost:8080/"
        },
        "id": "732b3847",
        "outputId": "759c73e5-ea0f-49ce-a766-22920dde1faf"
      },
      "outputs": [
        {
          "output_type": "stream",
          "name": "stdout",
          "text": [
            "3\n"
          ]
        }
      ],
      "source": [
        "OutMin = Final_Out.index(min(Final_Out))\n",
        "print(OutMin)"
      ]
    },
    {
      "cell_type": "code",
      "source": [
        "precise = 3\n",
        "\n",
        "if (OutMin == 0):\n",
        "    print(\"Random Classifier is worst with just\", round((RC_Out*100),precise),\"% accuracy.\")\n",
        "\n",
        "elif (OutMin == 1):\n",
        "    print(\"Logistic Regression is worst with just\", round((LR_Out*100),precise),\"% accuracy.\")\n",
        "\n",
        "elif (OutMin == 2):\n",
        "    print(\"Decision Tree is worst with just\", round((DC_Out*100),precise),\"% accuracy.\")\n",
        "\n",
        "elif (OutMin == 3):\n",
        "    print(\"SVM is worst with just\", round((SVM_Out*100),precise),\"% accuracy.\")\n",
        "\n",
        "elif (OutMin == 4):\n",
        "    print(\"Naive bias is worst with just\", round((NB_Out*100),precise),\"% accuracy.\")\n",
        "\n",
        "else:\n",
        "    print(\"KNN is worst with just\", round((KNN_Out*100),precise),\"% accuracy.\")"
      ],
      "metadata": {
        "colab": {
          "base_uri": "https://localhost:8080/"
        },
        "id": "81J2bNxn8Hfm",
        "outputId": "1aaeddad-1aad-46b1-821f-665539c680d5"
      },
      "id": "81J2bNxn8Hfm",
      "execution_count": 99,
      "outputs": [
        {
          "output_type": "stream",
          "name": "stdout",
          "text": [
            "SVM is worst with just 65.368 % accuracy.\n"
          ]
        }
      ]
    },
    {
      "cell_type": "code",
      "source": [
        "Final_Out.index(np.amin(Final_Out))"
      ],
      "metadata": {
        "colab": {
          "base_uri": "https://localhost:8080/"
        },
        "id": "mab7qF8Y8Ncu",
        "outputId": "60fe2963-7856-4e01-8456-f678b566c4e7"
      },
      "id": "mab7qF8Y8Ncu",
      "execution_count": 103,
      "outputs": [
        {
          "output_type": "execute_result",
          "data": {
            "text/plain": [
              "3"
            ]
          },
          "metadata": {},
          "execution_count": 103
        }
      ]
    },
    {
      "cell_type": "code",
      "source": [
        "np.amin(Final_Out)"
      ],
      "metadata": {
        "colab": {
          "base_uri": "https://localhost:8080/"
        },
        "id": "475NX_Or8YyB",
        "outputId": "f87d8f45-7749-4ebb-b41b-29c145825e9f"
      },
      "id": "475NX_Or8YyB",
      "execution_count": 105,
      "outputs": [
        {
          "output_type": "execute_result",
          "data": {
            "text/plain": [
              "0.6536796536796536"
            ]
          },
          "metadata": {},
          "execution_count": 105
        }
      ]
    },
    {
      "cell_type": "code",
      "source": [
        "#65.36% is lowest accuracy for SVM Algorithm."
      ],
      "metadata": {
        "id": "ko2kH3O98fEq"
      },
      "id": "ko2kH3O98fEq",
      "execution_count": 107,
      "outputs": []
    },
    {
      "cell_type": "code",
      "source": [],
      "metadata": {
        "id": "k1juUnd48ldn"
      },
      "id": "k1juUnd48ldn",
      "execution_count": null,
      "outputs": []
    }
  ],
  "metadata": {
    "kernelspec": {
      "display_name": "Python 3 (ipykernel)",
      "language": "python",
      "name": "python3"
    },
    "language_info": {
      "codemirror_mode": {
        "name": "ipython",
        "version": 3
      },
      "file_extension": ".py",
      "mimetype": "text/x-python",
      "name": "python",
      "nbconvert_exporter": "python",
      "pygments_lexer": "ipython3",
      "version": "3.9.7"
    },
    "colab": {
      "provenance": [],
      "collapsed_sections": [],
      "include_colab_link": true
    }
  },
  "nbformat": 4,
  "nbformat_minor": 5
}